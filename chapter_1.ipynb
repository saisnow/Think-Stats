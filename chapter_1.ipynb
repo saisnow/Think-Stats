{
 "cells": [
  {
   "cell_type": "markdown",
   "metadata": {},
   "source": [
    "# Introduction\n",
    "\n",
    "This notebook is for:\n",
    "\n",
    "Chapter 1: Statistical Thinking \n",
    "Chapter 2: Descriptive Statistics\n",
    "\n",
    "Tools of statistics, which are:\n",
    "\n",
    "1: Data collection\n",
    "2: Descriptive Statistics\n",
    "3: Exploratory Data Analysis\n",
    "4: Hypothesis Testing\n",
    "5: Estimation"
   ]
  },
  {
   "cell_type": "code",
   "execution_count": 5,
   "metadata": {},
   "outputs": [],
   "source": [
    "from __future__ import division, print_function\n",
    "import numpy as np\n",
    "import pandas as pd\n",
    "%matplotlib inline"
   ]
  },
  {
   "cell_type": "markdown",
   "metadata": {},
   "source": [
    "# Chapter 1 - Statistical Thinking\n",
    "\n",
    "## Data Collection\n",
    "\n",
    "Data is from National Survey of Family Growth (NSFG) initiative of the US Centers for Disease Control (CDC). NSFG is a cross-sectional study, not a longitudinal one_\n",
    "\n"
   ]
  },
  {
   "cell_type": "code",
   "execution_count": null,
   "metadata": {},
   "outputs": [],
   "source": [
    "f_resp = open(\"../data/2002FemResp.dat\", 'rb')\n",
    "nbr_resp = 0\n",
    "for l_resp in f_resp:\n",
    "    nbr_resp += 1\n",
    "f_resp.close()\n",
    "f_preg = open(\"../data/2002FemPreg.dat\", 'rb')\n",
    "nbr_preg = 0\n",
    "for l_preg in f_preg:\n",
    "    nbr_preg += 1\n",
    "f_preg.close()\n",
    "\n",
    "print(\"# of respondents: %d\" % (nbr_resp))\n",
    "print(\"# of pregnancies: %d\" % (nbr_preg))"
   ]
  },
  {
   "cell_type": "code",
   "execution_count": null,
   "metadata": {},
   "outputs": [],
   "source": [
    "pregnancies = pd.read_fwf(\"../data/2002FemPreg.dat\", \n",
    "                         names=[\"caseid\", \"nbrnaliv\", \"babysex\", \"birthwgt_lb\",\n",
    "                               \"birthwgt_oz\", \"prglength\", \"outcome\", \"birthord\",\n",
    "                               \"agepreg\", \"finalwgt\"],\n",
    "                         colspecs=[(0, 12), (21, 22), (55, 56), (57, 58), (57, 59),\n",
    "                                (274, 276), (276, 277), (278, 279), (283, 285), (422, 439)])\n",
    "pregnancies.head()"
   ]
  },
  {
   "cell_type": "markdown",
   "metadata": {},
   "source": [
    "More Insights"
   ]
  },
  {
   "cell_type": "code",
   "execution_count": null,
   "metadata": {},
   "outputs": [],
   "source": [
    "live_births = pregnancies[pregnancies[\"outcome\"] == 1]\n",
    "print(\"# of live births: %d\" % len(live_births))"
   ]
  },
  {
   "cell_type": "markdown",
   "metadata": {},
   "source": [
    "Shows that about 9,000 of the 13,500 pregnancies here result in live births."
   ]
  },
  {
   "cell_type": "code",
   "execution_count": null,
   "metadata": {},
   "outputs": [],
   "source": [
    "first_babies = live_births[live_births[\"birthord\"] == 1]\n",
    "other_babies = live_births[live_births[\"birthord\"] != 1]\n",
    "print(\"# first babies: %d\" % len(first_babies))\n",
    "print(\"# other babies: %d\" % len(other_babies))"
   ]
  },
  {
   "cell_type": "markdown",
   "metadata": {},
   "source": [
    "of these the data is fairly evenly split between first baby and other babies."
   ]
  },
  {
   "cell_type": "code",
   "execution_count": null,
   "metadata": {},
   "outputs": [],
   "source": [
    "avg_prglen_first_baby = first_babies[\"prglength\"].mean()\n",
    "avg_prglen_other_baby = other_babies[\"prglength\"].mean()\n",
    "print(\"Average pregnancy length for first baby: %.3f weeks\" % (avg_prglen_first_baby))\n",
    "print(\"Average pregnancy length for other baby: %.3f weeks\" % (avg_prglen_other_baby))\n",
    "print(\"Difference: %.3f weeks\" % (avg_prglen_first_baby - avg_prglen_other_baby))"
   ]
  },
  {
   "cell_type": "markdown",
   "metadata": {},
   "source": [
    "Pregnancy lengths for first babies seem to be only slightly higher (0.078 weeks) than for other babies. Such a difference is called an __apparent effect__, ie, there might be something going on, but we are not sure."
   ]
  },
  {
   "cell_type": "markdown",
   "metadata": {},
   "source": [
    "# Chapter 2 - Descriptive Statistics\n",
    "\n",
    "### Summary statistics and Distributions\n",
    "\n",
    "Summary statistics - mean, variance, median, etc. \n",
    "\n",
    "Distributions are usually represented as histograms (raw frequencies binned into equally spaced blocks).\n",
    "Normalized histogram is called Probability Mass Function (PMF).\n",
    "Distributions describes how often each value appears\n",
    "### Distributions - Histogram"
   ]
  },
  {
   "cell_type": "code",
   "execution_count": null,
   "metadata": {},
   "outputs": [],
   "source": [
    "prglen_first_babies = np.array(first_babies[\"prglength\"])\n",
    "prglen_other_babies = np.array(other_babies[\"prglength\"])\n",
    "\n",
    "# setting up range of histogram and number of bins\n",
    "first_baby_min_prglen = np.min(prglen_first_babies)\n",
    "first_baby_max_prglen = np.max(prglen_first_babies)\n",
    "other_baby_min_prglen = np.min(prglen_other_babies)\n",
    "other_baby_max_prglen = np.max(prglen_other_babies)\n",
    "print(\"first baby preg length min: %d, max: %d\" % \n",
    "      (first_baby_min_prglen, first_baby_max_prglen))\n",
    "print(\"other baby preg length min: %d, max: %d\" % \n",
    "      (other_baby_min_prglen, other_baby_max_prglen))\n",
    "\n",
    "bin_lb = min([first_baby_min_prglen, other_baby_min_prglen])\n",
    "bin_ub = max([first_baby_max_prglen, other_baby_max_prglen])\n",
    "nbr_bins = bin_ub - bin_lb\n",
    "bin_range = (bin_lb, bin_ub)\n",
    "print(\"range:\", bin_range, \"#-bins:\", nbr_bins)\n",
    "\n",
    "# building the histograms\n",
    "first_baby_fdist = np.histogram(np.array(prglen_first_babies), bins=nbr_bins, range=bin_range)\n",
    "other_baby_fdist = np.histogram(np.array(prglen_other_babies), bins=nbr_bins, range=bin_range)"
   ]
  },
  {
   "cell_type": "code",
   "execution_count": null,
   "metadata": {},
   "outputs": [],
   "source": [
    "def mode(fdist):\n",
    "    mode_idx = np.argmax(fdist[0])\n",
    "    return fdist[1][mode_idx]\n",
    "\n",
    "def all_modes(fdist):\n",
    "    mode_idxs = np.argsort(fdist[0])[::-1]\n",
    "    vf_pairs = []\n",
    "    for i in range(mode_idxs.shape[0]):\n",
    "        vf_pairs.append((int(fdist[1][mode_idxs[i]]), fdist[0][mode_idxs[i]]))\n",
    "    return vf_pairs\n",
    "    \n",
    "print(\"First baby arrival top week (mode): %d\" % (mode(first_baby_fdist)))\n",
    "print(\"Other baby arrival top week (mode): %d\" % (mode(other_baby_fdist)))\n",
    "\n",
    "print(\"First baby top 5 frequent weeks:\", all_modes(first_baby_fdist)[0:5])\n",
    "print(\"Other baby top 5 frequent weeks:\", all_modes(other_baby_fdist)[0:5])"
   ]
  },
  {
   "cell_type": "code",
   "execution_count": null,
   "metadata": {},
   "outputs": [],
   "source": []
  },
  {
   "cell_type": "code",
   "execution_count": null,
   "metadata": {},
   "outputs": [],
   "source": []
  },
  {
   "cell_type": "code",
   "execution_count": null,
   "metadata": {},
   "outputs": [],
   "source": []
  },
  {
   "cell_type": "code",
   "execution_count": null,
   "metadata": {},
   "outputs": [],
   "source": []
  },
  {
   "cell_type": "code",
   "execution_count": null,
   "metadata": {},
   "outputs": [],
   "source": []
  },
  {
   "cell_type": "code",
   "execution_count": null,
   "metadata": {},
   "outputs": [],
   "source": []
  },
  {
   "cell_type": "code",
   "execution_count": null,
   "metadata": {},
   "outputs": [],
   "source": []
  },
  {
   "cell_type": "code",
   "execution_count": null,
   "metadata": {},
   "outputs": [],
   "source": []
  },
  {
   "cell_type": "code",
   "execution_count": null,
   "metadata": {},
   "outputs": [],
   "source": []
  },
  {
   "cell_type": "code",
   "execution_count": null,
   "metadata": {},
   "outputs": [],
   "source": []
  },
  {
   "cell_type": "code",
   "execution_count": null,
   "metadata": {},
   "outputs": [],
   "source": []
  },
  {
   "cell_type": "code",
   "execution_count": null,
   "metadata": {},
   "outputs": [],
   "source": []
  },
  {
   "cell_type": "code",
   "execution_count": null,
   "metadata": {},
   "outputs": [],
   "source": [
    " "
   ]
  },
  {
   "cell_type": "code",
   "execution_count": null,
   "metadata": {},
   "outputs": [],
   "source": []
  },
  {
   "cell_type": "code",
   "execution_count": null,
   "metadata": {},
   "outputs": [],
   "source": []
  },
  {
   "cell_type": "code",
   "execution_count": null,
   "metadata": {},
   "outputs": [],
   "source": []
  }
 ],
 "metadata": {
  "kernelspec": {
   "display_name": "Python 2",
   "language": "python",
   "name": "python2"
  },
  "language_info": {
   "codemirror_mode": {
    "name": "ipython",
    "version": 3
   },
   "file_extension": ".py",
   "mimetype": "text/x-python",
   "name": "python",
   "nbconvert_exporter": "python",
   "pygments_lexer": "ipython3",
   "version": "3.6.6"
  }
 },
 "nbformat": 4,
 "nbformat_minor": 1
}
