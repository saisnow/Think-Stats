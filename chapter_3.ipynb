{
 "cells": [
  {
   "cell_type": "code",
   "execution_count": 82,
   "metadata": {},
   "outputs": [],
   "source": [
    "import sys\n",
    "sys.path.append('/usr/lib/python2.7/dist-packages')"
   ]
  },
  {
   "cell_type": "markdown",
   "metadata": {},
   "source": [
    "# chapter 3  Cumulative Distribution Functions\n",
    "\n",
    "Objective is to understand CDFs as an alternative representation of distributions with many members, relation between percentiles (and other rank based metrics such as median, IQR) and CDFs, using CDFs for resampling, etc."
   ]
  },
  {
   "cell_type": "code",
   "execution_count": null,
   "metadata": {},
   "outputs": [],
   "source": [
    "import math\n",
    "import matplotlib.pyplot as plt\n",
    "import numpy as np\n",
    "import pandas as pd\n",
    "%matplotlib inline"
   ]
  },
  {
   "cell_type": "markdown",
   "metadata": {},
   "source": [
    "## Class Size Paradox\n",
    "\n",
    "Given a probability distribution, the mean of a distribution calculated from its PMF is lower than if we were to calculate the mean by taking a sample from it. This happens because the larger classes tend to get oversampled."
   ]
  },
  {
   "cell_type": "code",
   "execution_count": 31,
   "metadata": {},
   "outputs": [
    {
     "name": "stdout",
     "output_type": "stream",
     "text": [
      "[7, 7, 7, 7, 7, 7, 7, 7, 12, 12, 12, 12, 12, 12, 12, 12, 17, 17, 17, 17, 17, 17, 17, 17, 17, 17, 17, 17, 17, 17, 22, 22, 22, 22, 27, 27, 27, 27, 27, 27, 32, 32, 32, 32, 32, 32, 32, 32, 32, 32, 32, 32, 37, 37, 37, 37, 37, 37, 37, 37, 42, 42, 42, 47, 47]\n",
      "65\n",
      "0.12307692307692308\n",
      "0.12307692307692308\n",
      "0.2153846153846154\n",
      "0.06153846153846154\n",
      "0.09230769230769231\n",
      "0.18461538461538463\n",
      "0.12307692307692308\n",
      "0.046153846153846156\n",
      "0.03076923076923077\n",
      "1.0\n"
     ]
    }
   ],
   "source": [
    "class_size_dist = {\n",
    "    7: 8,\n",
    "    12: 8,\n",
    "    17: 14,\n",
    "    22: 4,\n",
    "    27: 6,\n",
    "    32: 12,\n",
    "    37: 8,\n",
    "    42: 3,\n",
    "    47: 2\n",
    "}\n",
    "class_sizes = []\n",
    "sum = 0\n",
    "for k in class_size_dist.keys():\n",
    "    num_k = class_size_dist[k]\n",
    "    for i in range(num_k):\n",
    "        class_sizes.append(k)\n",
    "print(class_sizes)\n",
    "print(len(class_sizes))\n",
    "for k in class_size_dist.keys():\n",
    "    print(class_size_dist[k]/65)\n",
    "    sum = sum + (class_size_dist[k]/65)\n",
    "print(sum)\n",
    "\n"
   ]
  },
  {
   "cell_type": "code",
   "execution_count": 54,
   "metadata": {},
   "outputs": [
    {
     "name": "stdout",
     "output_type": "stream",
     "text": [
      "[0.12307692 0.         0.         0.         0.         0.12307692\n",
      " 0.         0.         0.         0.         0.21538462 0.\n",
      " 0.         0.         0.         0.06153846 0.         0.\n",
      " 0.         0.         0.09230769 0.         0.         0.\n",
      " 0.         0.18461538 0.         0.         0.         0.\n",
      " 0.12307692 0.         0.         0.         0.         0.04615385\n",
      " 0.         0.         0.         0.03076923]\n",
      "[ 7.  8.  9. 10. 11. 12. 13. 14. 15. 16. 17. 18. 19. 20. 21. 22. 23. 24.\n",
      " 25. 26. 27. 28. 29. 30. 31. 32. 33. 34. 35. 36. 37. 38. 39. 40. 41. 42.\n",
      " 43. 44. 45. 46. 47.]\n",
      "Avg class size according to the Dean: 23.662\n"
     ]
    },
    {
     "name": "stderr",
     "output_type": "stream",
     "text": [
      "/home/venkat/.local/lib/python3.6/site-packages/ipykernel_launcher.py:1: VisibleDeprecationWarning: Passing `normed=True` on non-uniform bins has always been broken, and computes neither the probability density function nor the probability mass function. The result is only correct if the bins are uniform, when density=True will produce the same result anyway. The argument will be removed in a future version of numpy.\n",
      "  \"\"\"Entry point for launching an IPython kernel.\n"
     ]
    }
   ],
   "source": [
    "pmf_class_sizes = np.histogram(np.array(class_sizes),bins = 40, range=(7,47), normed = (True))\n",
    "def pmf_mean(pmf):\n",
    "    print(pmf[0])\n",
    "    print(pmf[1])\n",
    "    ps = pmf[0]\n",
    "    xs = pmf[1][:-1]\n",
    "    return np.dot(ps, xs)\n",
    "\n",
    "\n",
    "dean_mean = pmf_mean(pmf_class_sizes)\n",
    "print(\"Avg class size according to the Dean: %.3f\" % (dean_mean))"
   ]
  },
  {
   "cell_type": "code",
   "execution_count": 53,
   "metadata": {},
   "outputs": [
    {
     "name": "stdout",
     "output_type": "stream",
     "text": [
      "27\n",
      "27\n",
      "32\n",
      "32\n",
      "17\n",
      "37\n",
      "Avg class size according to polling: 28\n"
     ]
    }
   ],
   "source": [
    "# extract and shuffle population\n",
    "actual_pop = []\n",
    "for key in class_size_dist.keys():\n",
    "    for i in range(class_size_dist[key]):\n",
    "        actual_pop.append(key)\n",
    "pop = np.array(actual_pop)\n",
    "np.random.shuffle(pop)\n",
    "\n",
    "# sample from this population for 1/10-th the size\n",
    "sum1 =0\n",
    "polled_sample = []\n",
    "polled_mean = 0\n",
    "pop_size = pop.shape[0]\n",
    "sample_size =  int(pop_size * 0.1)\n",
    "for i in range(sample_size):\n",
    "    dice = np.random.randint(pop_size)\n",
    "    polled_sample.append(pop[dice])\n",
    "    print(pop[dice])\n",
    "\n",
    "\n",
    "for i in range(len(polled_sample)):\n",
    "    sum1 = sum1 + polled_sample[i]\n",
    "\n",
    "\n",
    "\n",
    "polled_mean = sum1 / len(polled_sample)\n",
    "\n",
    "print(\"Avg class size according to polling: %d\" % polled_mean)"
   ]
  },
  {
   "cell_type": "markdown",
   "metadata": {},
   "source": [
    "The mean calculated from pmf and mean calculated by choosing the random student classes is different because larger classes get oversampled"
   ]
  },
  {
   "cell_type": "markdown",
   "metadata": {},
   "source": [
    "## Birth Weights\n",
    "\n",
    "PMFs work well if the number of values is small, but as the number increases, the probability associated with each value gets smaller and smaller and the effect of random noise increases."
   ]
  },
  {
   "cell_type": "code",
   "execution_count": null,
   "metadata": {},
   "outputs": [],
   "source": [
    "pregnancies = pd.read_fwf(\"../data/2002FemPreg.dat\", \n",
    "                         names=[\"caseid\", \"nbrnaliv\", \"babysex\", \"birthwgt_lb\",\n",
    "                               \"birthwgt_oz\", \"prglength\", \"outcome\", \"birthord\",\n",
    "                               \"agepreg\", \"finalwgt\"],\n",
    "                         colspecs=[(0, 12), (21, 22), (55, 56), (57, 58), (58, 60),\n",
    "                                (274, 276), (276, 277), (278, 279), (283, 285), (422, 439)])\n",
    "pregnancies.head()"
   ]
  },
  {
   "cell_type": "code",
   "execution_count": null,
   "metadata": {},
   "outputs": [],
   "source": [
    "live_births = pregnancies[pregnancies[\"outcome\"] == 1]\n",
    "\n",
    "first_babies_df = live_births[live_births[\"birthord\"] == 1]\n",
    "first_babies_df[\"totwgt\"] = first_babies_df[\"birthwgt_lb\"] * 16 + \\\n",
    "    first_babies_df[\"birthwgt_oz\"]\n",
    "other_babies_df = live_births[live_births[\"birthord\"] != 1]\n",
    "other_babies_df[\"totwgt\"] = other_babies_df[\"birthwgt_lb\"] * 16 + \\\n",
    "    other_babies_df[\"birthwgt_oz\"]\n",
    "\n",
    "first_babies = np.array(first_babies_df[\"totwgt\"].dropna())\n",
    "other_babies = np.array(other_babies_df[\"totwgt\"].dropna())\n",
    "\n",
    "range_lb = int(min([np.min(first_babies), np.min(other_babies)]))\n",
    "range_ub = int(max([np.max(first_babies), np.max(other_babies)]))\n",
    "nbr_bins = range_ub - range_lb\n",
    "\n",
    "pmf_first_babies = np.histogram(np.array(first_babies), \n",
    "                                bins=nbr_bins, range=(range_lb, range_ub), normed=True)\n",
    "pmf_other_babies = np.histogram(np.array(other_babies), \n",
    "                                bins=nbr_bins, range=(range_lb, range_ub), normed=True)\n"
   ]
  },
  {
   "cell_type": "markdown",
   "metadata": {},
   "source": [
    "## Percentiles\n",
    "\n",
    "If you are given a value, it is easy to find its percentile rank; going the other\n",
    "way is slightly harder. If you are given a percentile rank and you want to\n",
    "find the corresponding value, one option is to sort the values and search for\n",
    "the one you want:"
   ]
  },
  {
   "cell_type": "code",
   "execution_count": 71,
   "metadata": {},
   "outputs": [
    {
     "name": "stdout",
     "output_type": "stream",
     "text": [
      "4\n",
      "88\n"
     ]
    }
   ],
   "source": [
    "def percentile_rank(xs, score):\n",
    "    count = 0\n",
    "    for x in xs:\n",
    "        if x < score:\n",
    "            count += 1\n",
    "    return 100.0 * count / len(xs)\n",
    "\n",
    "def percentile(xs, rank):\n",
    "    sxs = sorted(xs)\n",
    "    for x in sxs:\n",
    "        if percentile_rank(sxs, x) >= rank:\n",
    "            return x\n",
    "\n",
    "scores = np.array([55, 66, 77, 88, 99])\n",
    "print(\"Percentile rank for 88: %d\" % (percentile_rank(scores, 88)))\n",
    "print(\"Percentile for rank 60: %d\" % (percentile(scores, 60)))\n",
    "\n",
    "\n",
    "\n",
    "def Percentile2(scores, percentile_rank):\n",
    " \n",
    "    scores.sort()\n",
    "    index = percentile_rank * (len(scores)-1) / 100\n",
    "    return scores[floor(index)]\n",
    "\n",
    "def floor(val):\n",
    "    if type(val)== float:\n",
    "        n = int(val)\n",
    "        if n > val-1 and n < val + 1:\n",
    "            return n+1\n",
    "    else:\n",
    "        return val\n",
    "    \n",
    "    \n",
    "print(Percentile2(scores,60))\n"
   ]
  },
  {
   "cell_type": "markdown",
   "metadata": {},
   "source": [
    "# CDF\n",
    "Commulative Distributive Function\n",
    "\n",
    "The CDF is the function that maps values to their percentile rank in a distribution.\n",
    "\n",
    "The CDF is a function of x, where x is any value that might appear in the distribution. To evaluate CDF(x) for a particular value of x, we compute the\n",
    "fraction of the values in the sample less than (or equal to) x.\n",
    "\n",
    "The result is in a probability in the range 0–1 rather than a percentile\n",
    "rank in the range 0–100\n",
    "\n",
    "\n"
   ]
  },
  {
   "cell_type": "code",
   "execution_count": 75,
   "metadata": {},
   "outputs": [
    {
     "data": {
      "text/plain": [
       "0.8"
      ]
     },
     "execution_count": 75,
     "metadata": {},
     "output_type": "execute_result"
    }
   ],
   "source": [
    "count = 0\n",
    "def Cdf(t, x):\n",
    "    count = 0.0\n",
    "    for value in t:\n",
    "        if value <= x:\n",
    "            count += 1.0\n",
    "    prob = count / len(t)\n",
    "    return prob\n",
    "\n",
    "t = [55,66,77,88,99]\n",
    "Cdf(t,88)"
   ]
  },
  {
   "cell_type": "markdown",
   "metadata": {},
   "source": [
    "### CDF for the survey data\n",
    "\n",
    "According to the suvery data when cdf of  birthweight is calculated there is no much difference between first borns and others before mean.\n",
    "And after mean there is larger discrepancy above the mean."
   ]
  },
  {
   "cell_type": "code",
   "execution_count": null,
   "metadata": {},
   "outputs": [],
   "source": [
    "def cdf(pmf):\n",
    "    xs = pmf[1][:-1]\n",
    "    ps = np.cumsum(pmf[0])\n",
    "    return np.vstack((xs, ps)).T\n",
    "\n",
    "cdf_first_babies = cdf(pmf_first_babies)\n",
    "cdf_other_babies = cdf(pmf_other_babies)"
   ]
  },
  {
   "cell_type": "code",
   "execution_count": null,
   "metadata": {},
   "outputs": [],
   "source": [
    "xs = cdf_first_babies[:, 0]\n",
    "ps = cdf_first_babies[:, 1]\n",
    "\n",
    "# given the weight find the percentile\n",
    "birth_weight = (7 * 16) + 9\n",
    "for i in range(xs.shape[0]):\n",
    "    if xs[i] >= birth_weight:\n",
    "        break\n",
    "pc_rank = ps[i] * 100\n",
    "print(\"Percentile rank of first baby 7 lb 9 oz: %.3f\" % (pc_rank))\n",
    "\n",
    "# given the percentile find the weight\n",
    "percentile = 75\n",
    "for i in range(ps.shape[0]):\n",
    "    if ps[i] > 0.01 * percentile:\n",
    "        break\n",
    "weight = xs[i]\n",
    "print(\"Weight of first born in the 75th percentile: %.3f oz\" % (weight))"
   ]
  },
  {
   "cell_type": "markdown",
   "metadata": {},
   "source": [
    "## Conditional Distributions\n",
    "\n",
    "Distribution of a subset of data which is selected according to a condition.\n",
    "\n",
    "For example, if you are above average in weight, but way above average in\n",
    "height, then you might be relatively light for your height. Here’s how you could make that claim more precise.\n",
    "1. Select a cohort of people who are the same height as you (within some range).\n",
    "2. Find the CDF of weight for those people.\n",
    "3. Find the percentile rank of your weight in that distribution.\n",
    "\n"
   ]
  },
  {
   "cell_type": "code",
   "execution_count": 80,
   "metadata": {},
   "outputs": [
    {
     "name": "stdout",
     "output_type": "stream",
     "text": [
      "overall percentile rank: 5.940, percentile rank in division: 10.156\n"
     ]
    }
   ],
   "source": [
    "overall_percentile_rank = 97.0 * 100 / 1633\n",
    "division_percentile_rank = 26.0 * 100 / 256\n",
    "print(\"overall percentile rank: %.3f, percentile rank in division: %.3f\" % \n",
    "      (overall_percentile_rank, division_percentile_rank))"
   ]
  },
  {
   "cell_type": "markdown",
   "metadata": {},
   "source": [
    "## Random Numbers\n",
    "\n",
    "CDFs are useful for generating random numbers with a given distribution.\n",
    "Here’s how:\n",
    " 1: Choose a random probability in the range 0–1.\n",
    " 2: Use Cdf.Value to find the value in the distribution that corresponds to the probability you chose\n",
    "\n",
    "\n",
    "The process of generating a sample based on another sample is called resampling. Resampling can be with replacement  and without replacement."
   ]
  },
  {
   "cell_type": "code",
   "execution_count": null,
   "metadata": {},
   "outputs": [],
   "source": [
    "sample_size = 100\n",
    "samples = []\n",
    "for i in range(sample_size):\n",
    "    prob = np.random.random()\n",
    "    for j in range(ps.shape[0]):\n",
    "        if ps[j] > prob:\n",
    "            break\n",
    "    samples.append(xs[j])\n",
    "\n",
    "# create a CDF for the new sample\n",
    "pmf_sample = np.histogram(np.array(samples), \n",
    "                          bins=nbr_bins, range=(range_lb, range_ub), normed=True)\n",
    "cdf_sample = cdf(pmf_sample)\n"
   ]
  },
  {
   "cell_type": "markdown",
   "metadata": {},
   "source": [
    "## Summary Statistics Revisited\n",
    "\n",
    "The median is just the 50th percentile. The 25th and 75th percentiles are often used to check whether a distribution is symmetric, and their difference, which is called the interquartile range, measures the spread.\n",
    "it is also called the midspread or middle 50%.\n",
    "\n",
    "We find the median and IQR using the CDF for the firstborn birth weights."
   ]
  },
  {
   "cell_type": "code",
   "execution_count": null,
   "metadata": {},
   "outputs": [],
   "source": [
    "xs = cdf_first_babies[:, 0]\n",
    "ps = cdf_first_babies[:, 1]\n",
    "\n",
    "# median\n",
    "for i in range(ps.shape[0]):\n",
    "    if ps[i] >= 0.5:\n",
    "        break\n",
    "print(\"median = %.3f\" % (xs[i]))\n",
    "\n",
    "# IQR\n",
    "for i in range(ps.shape[0]):\n",
    "    if ps[i] >= 0.25:\n",
    "        break\n",
    "q1 = xs[i]\n",
    "for i in range(ps.shape[0]):\n",
    "    if ps[i] >= 0.75:\n",
    "        break\n",
    "q3 = xs[i]\n",
    "iqr = q3 - q1\n",
    "print(\"Q1 = %.3f, Q3 = %.3f, IQR = %.3f\" % (q1, q3, iqr))"
   ]
  }
 ],
 "metadata": {
  "kernelspec": {
   "display_name": "Python 2",
   "language": "python",
   "name": "python2"
  },
  "language_info": {
   "codemirror_mode": {
    "name": "ipython",
    "version": 3
   },
   "file_extension": ".py",
   "mimetype": "text/x-python",
   "name": "python",
   "nbconvert_exporter": "python",
   "pygments_lexer": "ipython3",
   "version": "3.6.6"
  }
 },
 "nbformat": 4,
 "nbformat_minor": 2
}
