{
 "cells": [
  {
   "cell_type": "markdown",
   "metadata": {},
   "source": [
    "# Chapter - 5 : Probability\n",
    "\n"
   ]
  },
  {
   "cell_type": "markdown",
   "metadata": {},
   "source": [
    "Frequentism - probability defined in terms of frequencies.\n",
    "\n",
    "Bayesianism - probability is the degree of belief that an event will occur.\n",
    "\n",
    "Rules of Probability\n",
    "P(A and B) = P(A).P(B), where A and B are independent.\n",
    "P(A|B) = P(A and B) / P(B), where A and B are not independent."
   ]
  },
  {
   "cell_type": "code",
   "execution_count": 36,
   "metadata": {},
   "outputs": [],
   "source": [
    "\n",
    "import numpy as np\n",
    "import matplotlib.pyplot as plt\n",
    "import pandas as pd\n",
    "import random\n",
    "from scipy.stats import norm\n",
    "from scipy.special import comb\n",
    "import math\n"
   ]
  },
  {
   "cell_type": "markdown",
   "metadata": {},
   "source": [
    "1: If I roll 2 dice and get 8, what is the chance that one of the dice is 6?\n",
    "\n",
    "(2,6), (3,5), (4,4), (5,3), (6,2) are the only ways of getting an 8. Of these, there are 2 cases where 1 dice has a 6. Thus the answer is 2/5 = 0.4\n",
    "\n",
    "2: If I roll 100 die, what is the chance of getting all sixes?\n",
    "\n",
    "Chance of getting 6 on 1 die is 1/6. Since the dice throws are mutually independent events, it is (1/6)\\*\\*100, ie, 1.530646707486498e-78.\n",
    "\n",
    "3: If a family has 2 children, what is the chance that they will be both girls?\n",
    "\n",
    "Family with 2 children can have one of (B,B), (B,G), (G,G), so its 0.33.\n",
    "\n",
    "4: If a family has 2 children and we know at least one of them is a girl, what is the chance that they have 2 girls?\n",
    "\n",
    "They can have (B,G) or (G,G), so its 0.5.\n",
    "\n",
    "5: If a family has 2 children and we know the older one is a girl, what is the chance they have 2 girls?\n",
    "\n",
    "Same as above.\n",
    "\n",
    "6: If a family has 2 children and we know that at least one of them is a girl named Florida, what is the chance they have 2 girls?\n",
    "\n",
    "Same as above.\n",
    "\n"
   ]
  },
  {
   "cell_type": "markdown",
   "metadata": {},
   "source": [
    "## Monty Hall Problem\n",
    "\n",
    "The question is, should you “stick” or “switch” or does it make no difference?"
   ]
  },
  {
   "cell_type": "markdown",
   "metadata": {},
   "source": [
    "* The key is to realize that there are three possible scenarios: the car is behind\n",
    "  Door A, B or C. Since the prizes are arranged at random, the probability of\n",
    "  each scenario is 1/3.\n",
    "* If your strategy is to stick with Door A, then you will win only in Scenario \n",
    "  A, which has probability 1/3.\n",
    "* If your strategy is to switch, you will win in either Scenario B or Scenario C,\n",
    "  so the total probability of winning is 2/3."
   ]
  },
  {
   "cell_type": "code",
   "execution_count": 7,
   "metadata": {},
   "outputs": [
    {
     "name": "stdout",
     "output_type": "stream",
     "text": [
      "2\n",
      "1\n",
      "0\n",
      "Probability of winning if you stick: 0.000\n",
      "Probability of winning if you switch: 1.000\n"
     ]
    }
   ],
   "source": [
    "#simulates the Monty Hall problem\n",
    "\n",
    "nbr_games = 1\n",
    "nbr_wins_if_stick = 0\n",
    "nbr_wins_if_switch = 0\n",
    "for i in range(nbr_games):\n",
    "    # door with the car behind it\n",
    "    door_with_prize = np.random.randint(3)\n",
    "    # make first guess\n",
    "    first_guess = np.random.randint(3)\n",
    "    # monty opens one of the \"other\" doors\n",
    "    doors_available = [x for x in [0, 1, 2] if x != door_with_prize\n",
    "                                            and x != first_guess]\n",
    "    door_opened = doors_available[np.random.randint(len(doors_available))]\n",
    "    second_guess = [x for x in [0, 1, 2] if x != door_opened\n",
    "                                         and x != first_guess][0]\n",
    "\n",
    "    print(first_guess)\n",
    "    if door_with_prize == first_guess:\n",
    "        nbr_wins_if_stick += 1\n",
    "    if door_with_prize == second_guess:\n",
    "        nbr_wins_if_switch += 1\n",
    "print(\"Probability of winning if you stick: %.3f\" % (nbr_wins_if_stick / nbr_games))\n",
    "print(\"Probability of winning if you switch: %.3f\" % (nbr_wins_if_switch / nbr_games))"
   ]
  },
  {
   "cell_type": "code",
   "execution_count": 4,
   "metadata": {},
   "outputs": [
    {
     "name": "stdout",
     "output_type": "stream",
     "text": [
      "Probability of winning if you stick: 0.345\n",
      "Probability of winning if you switch: 0.334\n"
     ]
    }
   ],
   "source": [
    "#I t is important to realize that by deciding which door to open, Monty is giving you information. \n",
    "# Simulate the situation where this is not the case by making Monty open door B or C at random. \n",
    "# If he opens the door with the car, the game is over and you cannot decide whether to stick or switch.\n",
    "\n",
    "nbr_games = 1000\n",
    "nbr_wins_if_stick = 0\n",
    "nbr_wins_if_switch = 0\n",
    "for i in range(nbr_games):\n",
    "    # door with the car behind it\n",
    "    door_with_prize = np.random.randint(3)\n",
    "    # make first guess\n",
    "    first_guess = np.random.randint(3)\n",
    "    # monty opens one of the \"other\" doors\n",
    "    doors_available = [x for x in [0, 1, 2] if x != first_guess]\n",
    "    door_opened = doors_available[np.random.randint(len(doors_available))]\n",
    "    if door_opened == door_with_prize:\n",
    "        continue\n",
    "    second_guess = [x for x in [0, 1, 2] if x != door_opened\n",
    "                                         and x != first_guess][0]\n",
    "    if door_with_prize == first_guess:\n",
    "        nbr_wins_if_stick += 1\n",
    "    if door_with_prize == second_guess:\n",
    "        nbr_wins_if_switch += 1\n",
    "print(\"Probability of winning if you stick: %.3f\" % (nbr_wins_if_stick / nbr_games))\n",
    "print(\"Probability of winning if you switch: %.3f\" % (nbr_wins_if_switch / nbr_games))"
   ]
  },
  {
   "cell_type": "markdown",
   "metadata": {},
   "source": [
    "## Poincare\n"
   ]
  },
  {
   "cell_type": "markdown",
   "metadata": {},
   "source": [
    "simulates a baker who chooses n loaves \n",
    "from a distribution with mean 950 g and standard deviation 50 g, and gives\n",
    "the heaviest one to Poincaré. What value of n yields a distribution with\n",
    "mean 1000 g? What is the standard deviation?\n"
   ]
  },
  {
   "cell_type": "code",
   "execution_count": 23,
   "metadata": {},
   "outputs": [
    {
     "name": "stdout",
     "output_type": "stream",
     "text": [
      "Poincare's loaves: mean = 998.993, sd = 34.088\n"
     ]
    },
    {
     "data": {
      "text/plain": [
       "<matplotlib.legend.Legend at 0x7f0ee76fcc18>"
      ]
     },
     "execution_count": 23,
     "metadata": {},
     "output_type": "execute_result"
    },
    {
     "data": {
      "image/png": "[encoded data removed]",
      "text/plain": [
       "<Figure size 432x288 with 1 Axes>"
      ]
     },
     "metadata": {
      "needs_background": "light"
     },
     "output_type": "display_data"
    }
   ],
   "source": [
    "nbr_days = 365\n",
    "n = 4\n",
    "ploaf = np.zeros(nbr_days)\n",
    "for day in range(nbr_days):\n",
    "    loaf_wgts = 950 + 50 * np.random.randn(n)\n",
    "    ploaf[day] = np.max(loaf_wgts)\n",
    "print(\"Poincare's loaves: mean = %.3f, sd = %.3f\" % (np.mean(ploaf), np.std(ploaf)))\n",
    "\n",
    "xs = np.linspace(950-100, 950+100, 200)\n",
    "loaf_ys = norm.pdf(xs, 950, 10)\n",
    "ploaf_ys = norm.pdf(xs, 1000, 35)\n",
    "plt.plot(xs, loaf_ys, color=\"brown\", label=\"others\")\n",
    "plt.plot(xs, ploaf_ys, color=\"blue\", label=\"poincare\")\n",
    "plt.xlabel(\"weight (g)\")\n",
    "plt.ylabel(\"probability\")\n",
    "plt.legend(loc=\"best\")"
   ]
  },
  {
   "cell_type": "code",
   "execution_count": 24,
   "metadata": {},
   "outputs": [
    {
     "name": "stdout",
     "output_type": "stream",
     "text": [
      "Probability of woman being taller: 0.428\n"
     ]
    }
   ],
   "source": [
    "nbr_obs = 1000\n",
    "nbr_woman_taller = 0\n",
    "men_heights = np.random.normal(loc=178, scale=59.4, size=nbr_obs)\n",
    "women_heights = np.random.normal(loc=163, scale=52.8, size=nbr_obs)\n",
    "for i in range(nbr_obs):\n",
    "    nbr_woman_taller += 1 if women_heights[i] > men_heights[i] else 0\n",
    "print(\"Probability of woman being taller: %.3f\" % (nbr_woman_taller / nbr_obs))"
   ]
  },
  {
   "cell_type": "markdown",
   "metadata": {},
   "source": [
    "### coefficient of variance\n",
    "\n",
    "To compare variability between groups, it is useful to compute the coefficient of variation,\n",
    "which is the standard deviation as a fraction of the mean, σ/µ"
   ]
  },
  {
   "cell_type": "code",
   "execution_count": 64,
   "metadata": {},
   "outputs": [
    {
     "name": "stdout",
     "output_type": "stream",
     "text": [
      "variability of men height is: 0.043\n",
      "variability of women height is: 0.045\n"
     ]
    }
   ],
   "source": [
    "print(\"variability of men height is: %.3f\" %(math.sqrt(59.4)/178))\n",
    "print(\"variability of women height is: %.3f\" %(math.sqrt(52.8)/163))"
   ]
  },
  {
   "cell_type": "markdown",
   "metadata": {},
   "source": [
    "### Mutually Exclusive Events\n",
    "\n",
    "    P(A|B) = P(B|A) = 0\n",
    "    P(A or B) = P(A) + P(B)              if A and B are mutually exclusive\n",
    "    P(A or B) = P(A) + P(B) - P(A and B) in general\n",
    "\n",
    "__Exercise 5.8:__ If I roll 2 dice, what is the chance of rolling at least one six?\n",
    "\n",
    "Rolling at least 1 six = First dice roll 6 + Second dice roll 6 + Both dice roll 6 = (1/6)+(1/6)+(1/36) = 0.36.\n",
    "\n",
    "__Exercise 5.9:__ What is the general formula for probability of A or B but not both?\n",
    "\n",
    "    P(A or B) = P(A) + P(B) - P(A and B)\n",
    "    \n",
    "\n",
    "### Binomial Distribution\n",
    "\n",
    "Chance of getting exactly k successes from n trials, given p is the probability of success.\n",
    "\n",
    "$$PMF(k) = \\binom{n}{k}p^{k}(1-p)^{n-k}$$\n",
    "\n",
    "$$\\binom{n}{k} = \\frac{n!}{k!(n-k)!}$$\n",
    "\n"
   ]
  },
  {
   "cell_type": "code",
   "execution_count": 38,
   "metadata": {},
   "outputs": [
    {
     "name": "stdout",
     "output_type": "stream",
     "text": [
      "probability of exactly 50 heads in 100 tosses: 0.080\n",
      "[0.99684605 0.44972515 0.34293581 0.25313308 0.79362727 0.16194424\n",
      " 0.23395333 0.18288986 0.65283775 0.11633857 0.67277061 0.45912765\n",
      " 0.18392654 0.01156531 0.43657096]\n"
     ]
    }
   ],
   "source": [
    "p = comb(100, 50) * math.pow(0.5, 50) * math.pow(0.5, 50)\n",
    "print(\"probability of exactly 50 heads in 100 tosses: %.3f\" % (p))"
   ]
  },
  {
   "cell_type": "markdown",
   "metadata": {},
   "source": [
    "## Streaks and Hotspots\n"
   ]
  },
  {
   "cell_type": "code",
   "execution_count": 46,
   "metadata": {},
   "outputs": [
    {
     "name": "stdout",
     "output_type": "stream",
     "text": [
      "chance of seeing at least 1 streak per game: 0.003\n",
      "chance of seeing at least 1 streak per season: 0.056\n"
     ]
    }
   ],
   "source": [
    "'''If there are 10 players in a basketball game and each one takes\n",
    "15 shots during the course of the game, and each shot has a 50% probability\n",
    "of going in, what is the probability that you will see, in a given game, at\n",
    "least one player who hits 10 shots in a row? If you watch a season of 82\n",
    "games, what are the chances you will see at least one streak of 10 hits or\n",
    "misses?'''\n",
    "\n",
    "def step(x, t):\n",
    "    return 1 if x > t else 0\n",
    "\n",
    "nbr_sims = 1000\n",
    "nbr_players = 10\n",
    "nbr_succ = 0\n",
    "for g in range(nbr_sims):\n",
    "    for p in range(nbr_players):\n",
    "        nbr_streaks = 0\n",
    "        shots = [step(x, 0.5) for x in np.random.random(15).tolist()]\n",
    "        for i in range(len(shots)-10):\n",
    "            window = shots[i:i+10]\n",
    "            if sum(window) == 10:\n",
    "                nbr_streaks += 1\n",
    "    # we saw at least 1 streak (or not) in this game\n",
    "    nbr_succ += 1 if nbr_streaks > 0 else 0\n",
    "print(\"chance of seeing at least 1 streak per game: %.3f\" % (nbr_succ / nbr_sims))\n",
    "\n",
    "nbr_games = 82\n",
    "nbr_succ = 0\n",
    "for s in range(nbr_sims):\n",
    "    for g in range(nbr_games):\n",
    "        nbr_streaks = 0\n",
    "        for p in range(nbr_players):\n",
    "            shots = [step(x, 0.5) for x in np.random.random(15).tolist()]\n",
    "            for i in range(len(shots)-10):\n",
    "                window = shots[i:i+10]\n",
    "                if sum(window) == 10 or sum(window) == 0:\n",
    "                    nbr_streaks += 1\n",
    "    nbr_succ += 1 if nbr_streaks > 0 else 0\n",
    "print(\"chance of seeing at least 1 streak per season: %.3f\" % (nbr_succ / nbr_sims))\n",
    "\n",
    "\n",
    "\n",
    "\n",
    "\n",
    "\n",
    "\n"
   ]
  },
  {
   "cell_type": "code",
   "execution_count": 49,
   "metadata": {},
   "outputs": [
    {
     "name": "stdout",
     "output_type": "stream",
     "text": [
      "chance of another hitting streak: 0.0000000\n"
     ]
    }
   ],
   "source": [
    "'''Use a Monte Carlo simulation to estimate the probability that any player in\n",
    "major league baseball will have a hitting streak of 57 or more games in the\n",
    "next century'''\n",
    "\n",
    "nbr_sims = 1000\n",
    "nbr_years = 100 # next century\n",
    "nbr_games_per_season = 162 \n",
    "nbr_succ = 0\n",
    "for sim in range(nbr_sims):\n",
    "    for i in range(nbr_years):\n",
    "        nbr_streaks = 0\n",
    "        hits = [step(x, 0.5) for x in np.random.random(nbr_games_per_season).tolist()]\n",
    "        for j in range(len(hits)-57):\n",
    "            window = hits[j:j+57]\n",
    "            if sum(window) == 57:\n",
    "                nbr_streaks += 1\n",
    "    if nbr_streaks > 0:\n",
    "        nbr_succ += 1\n",
    "print(\"chance of another hitting streak: %.7f\" % (nbr_succ / nbr_sims))"
   ]
  },
  {
   "cell_type": "code",
   "execution_count": null,
   "metadata": {},
   "outputs": [],
   "source": [
    "                                                                                                                                                                                                                                                                                                                                                                                                                                                                                                                                                                            "
   ]
  },
  {
   "cell_type": "markdown",
   "metadata": {},
   "source": [
    "\n",
    "### Bayes Theorem\n",
    "\n",
    "$$P(A|B) = \\frac{P(B|A)P(A)}{P(B)}$$\n",
    "\n",
    "Here P(A) is the prior, P(A|B) is the posterior, P(B|A) is the likelihood, and P(B) is the normalizing constant.\n",
    "\n",
    "Bayes’s theorem is often interpreted as a statement about how a body of evidence, E, affects the probability of a hypothesis, H.\n",
    "\n"
   ]
  },
  {
   "cell_type": "code",
   "execution_count": 50,
   "metadata": {},
   "outputs": [
    {
     "name": "stdout",
     "output_type": "stream",
     "text": [
      "0.7594936708860758\n",
      "0.3773584905660375\n"
     ]
    }
   ],
   "source": [
    "'''Takes the actual rate of drug use, and the\n",
    "sensitivity and specificity of the test, and uses Bayes’s theorem to compute\n",
    "P(D|E).'''\n",
    "\n",
    "# p(drug use)\n",
    "# p(positive result | drug use)\n",
    "# p(negative result | -drug use)\n",
    "\n",
    "def compute_drug_use_given_positive_test(p_drug_use, sensitivity, specificity):   \n",
    "    norm = (p_drug_use * sensitivity) + ((1 - p_drug_use)*(1 - specificity))\n",
    "    return (p_drug_use * sensitivity) / norm\n",
    "\n",
    "print(compute_drug_use_given_positive_test(0.05, 0.6, 0.99))\n",
    "print(compute_drug_use_given_positive_test(0.01, 0.6, 0.99))"
   ]
  },
  {
   "cell_type": "markdown",
   "metadata": {},
   "source": [
    "Suppose there are two full bowls of cookies. Bowl 1 has 10\n",
    "chocolate chip and 30 plain cookies, while Bowl 2 has 20 of each.\n",
    "Our friend Fred picks a bowl at random, and then picks a cookie\n",
    "at random. The cookie turns out to be a plain one. How probable\n",
    "is it that Fred picked it out of Bowl 1?"
   ]
  },
  {
   "cell_type": "code",
   "execution_count": 54,
   "metadata": {},
   "outputs": [
    {
     "name": "stdout",
     "output_type": "stream",
     "text": [
      "0.6\n"
     ]
    }
   ],
   "source": [
    "\n",
    "p_bowl1 = 0.5\n",
    "p_bowl2 = 0.5\n",
    "p_plain_given_bowl1 = 30 / (10 + 30)\n",
    "p_plain_given_bowl2 = 20 / (20 + 20)\n",
    "p_bowl1_given_plain = p_plain_given_bowl1 * p_bowl1\n",
    "p_bowl1_given_plain /= (p_plain_given_bowl1 * p_bowl1) + (p_plain_given_bowl2 * p_bowl2)\n",
    "print(p_bowl1_given_plain)"
   ]
  },
  {
   "cell_type": "markdown",
   "metadata": {},
   "source": [
    "The blue M&M was introduced in 1995. Before then, the color\n",
    "mix in a bag of plain M&Ms was (30% Brown, 20% Yellow, 20% Red, 10%\n",
    "Green, 10% Orange, 10% Tan). Afterward it was (24% Blue , 20% Green,\n",
    "16% Orange, 14% Yellow, 13% Red, 13% Brown).\n",
    "\n",
    "\n",
    "A friend of mine has two bags of M&Ms, and he tells me that one is from\n",
    "1994 and one from 1996. He won’t tell me which is which, but he gives\n",
    "me one M&M from each bag. One is yellow and one is green. What is the\n",
    "probability that the yellow M&M came from the 1994 bag?"
   ]
  },
  {
   "cell_type": "code",
   "execution_count": 55,
   "metadata": {},
   "outputs": [
    {
     "name": "stdout",
     "output_type": "stream",
     "text": [
      "0.7407407407407408\n"
     ]
    }
   ],
   "source": [
    "# h1 = bag 1 is from 1994 and bag 2 is from 1996\n",
    "# h2 = bag 1 is from 1996 and bag 2 is from 1994\n",
    "# e = yellow and green M&M\n",
    "p_h1 = 0.5\n",
    "p_h2 = 0.5\n",
    "p_e_given_h1 = 0.2 * 0.2  # P(y from 1994 bag) * P(g from 1996 bag)\n",
    "p_e_given_h2 = 0.1 * 0.14 # P(y from 1996 bag) * P(g from 1994 bag)\n",
    "p_h1_given_e = p_e_given_h1 * p_h1\n",
    "p_h1_given_e /= ((p_e_given_h1 * p_h1) + (p_e_given_h2 * p_h2))\n",
    "print(p_h1_given_e)\n",
    "\n"
   ]
  },
  {
   "cell_type": "markdown",
   "metadata": {},
   "source": [
    "Elvis Presley had a twin brother who died at birth. According to the\n",
    "Wikipedia article on twins:\n",
    "“Twins are estimated to be approximately 1.9% of the world population,\n",
    "with monozygotic twins making up 0.2% of the total—\n",
    "and 8% of all twins.”\n",
    "\n",
    "What is the probability that Elvis was an identical twin?"
   ]
  },
  {
   "cell_type": "code",
   "execution_count": 56,
   "metadata": {},
   "outputs": [
    {
     "name": "stdout",
     "output_type": "stream",
     "text": [
      "0.14814814814814814\n"
     ]
    }
   ],
   "source": [
    "# h1 = elvis had identical twin\n",
    "# h2 = elvis had fraternal twin\n",
    "# e = brother was male\n",
    "p_h1 = 0.08\n",
    "p_h2 = 1 - p_h1\n",
    "p_e_given_h1 = 1.0     # identical twins have same gender\n",
    "p_e_given_h2 = 0.5     # fraternal twins can have either gender\n",
    "p_h1_given_e = p_e_given_h1 * p_h1\n",
    "p_h1_given_e /= ((p_e_given_h1 * p_h1) + (p_e_given_h2 * p_h2))\n",
    "print(p_h1_given_e)"
   ]
  },
  {
   "cell_type": "code",
   "execution_count": null,
   "metadata": {},
   "outputs": [],
   "source": []
  }
 ],
 "metadata": {
  "kernelspec": {
   "display_name": "Python 2",
   "language": "python",
   "name": "python2"
  },
  "language_info": {
   "codemirror_mode": {
    "name": "ipython",
    "version": 3
   },
   "file_extension": ".py",
   "mimetype": "text/x-python",
   "name": "python",
   "nbconvert_exporter": "python",
   "pygments_lexer": "ipython3",
   "version": "3.6.6"
  }
 },
 "nbformat": 4,
 "nbformat_minor": 2
}
