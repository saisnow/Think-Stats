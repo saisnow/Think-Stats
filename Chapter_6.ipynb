{
 "cells": [
  {
   "cell_type": "markdown",
   "metadata": {},
   "source": [
    "# Operations on Distributions\n",
    "\n",
    "This notebook is for Chapter 6 \n",
    "\n",
    "Objective: Combining random variables from different distributions and forming new random variables."
   ]
  },
  {
   "cell_type": "code",
   "execution_count": 11,
   "metadata": {},
   "outputs": [],
   "source": [
    "from __future__ import division, print_function\n",
    "import numpy as np\n",
    "import math\n",
    "import matplotlib.pyplot as plt\n",
    "import pandas as pd\n",
    "import scipy.stats\n",
    "%matplotlib inline"
   ]
  },
  {
   "cell_type": "markdown",
   "metadata": {},
   "source": [
    "## Skewness\n",
    "\n",
    "\n",
    "Measures assymetry of a distribution. By definition:\n",
    "\n",
    "$$g_{1} = \\frac{m_{3}}{m_{2}^{3/2}}$$\n",
    "\n",
    "$$m_{2} = \\frac{1}{n} \\sum (x_{i} - \\mu)^{2}$$\n",
    "\n",
    "$$m_{3} = \\frac{1}{n} \\sum (x_{i} - \\mu)^{3}$$\n",
    "\n",
    "Negative skewness = distribution skews left, extends further to left than right and vice versa for positive skewness.\n",
    "\n",
    "Another way to evaluate the asymmetry of a distribution is to look at the relationship between the mean and median. Extreme values have more effect on the mean than the median, so in a distribution that skews left, the\n",
    "mean is less than the median\n",
    "\n",
    "__Pearson's median skewness__ is another measure of skewness that captures the relationship between the mean $\\mu$ and median $\\mu_{1/2}$. Robust statistic, ie, less vulnerable to the impact of outliers.\n",
    "\n",
    "$$g_{p} = \\frac{3 (\\mu - \\mu_{1/2})}{\\sigma}$$"
   ]
  },
  {
   "cell_type": "code",
   "execution_count": 12,
   "metadata": {},
   "outputs": [],
   "source": [
    "def skewness(xs):\n",
    "    mean = np.mean(xs)\n",
    "    m2 = np.mean(np.power((xs - mean), 2))\n",
    "    m3 = np.mean(np.power((xs - mean), 3))\n",
    "    g1 = m3 / math.pow(m2, 1.5)\n",
    "    return g1\n",
    "\n",
    "def pearson_skewness(xs):\n",
    "    mean = np.mean(xs)\n",
    "    median = np.median(xs)\n",
    "    std = np.std(xs)\n",
    "    return 3 * (mean - median) / std"
   ]
  },
  {
   "cell_type": "code",
   "execution_count": 7,
   "metadata": {},
   "outputs": [
    {
     "data": {
      "text/html": [
       "<div>\n",
       "<style scoped>\n",
       "    .dataframe tbody tr th:only-of-type {\n",
       "        vertical-align: middle;\n",
       "    }\n",
       "\n",
       "    .dataframe tbody tr th {\n",
       "        vertical-align: top;\n",
       "    }\n",
       "\n",
       "    .dataframe thead th {\n",
       "        text-align: right;\n",
       "    }\n",
       "</style>\n",
       "<table border=\"1\" class=\"dataframe\">\n",
       "  <thead>\n",
       "    <tr style=\"text-align: right;\">\n",
       "      <th></th>\n",
       "      <th>caseid</th>\n",
       "      <th>nbrnaliv</th>\n",
       "      <th>babysex</th>\n",
       "      <th>birthwgt_lb</th>\n",
       "      <th>birthwgt_oz</th>\n",
       "      <th>prglength</th>\n",
       "      <th>outcome</th>\n",
       "      <th>birthord</th>\n",
       "      <th>agepreg</th>\n",
       "      <th>finalwgt</th>\n",
       "    </tr>\n",
       "  </thead>\n",
       "  <tbody>\n",
       "    <tr>\n",
       "      <th>0</th>\n",
       "      <td>1</td>\n",
       "      <td>1.0</td>\n",
       "      <td>1.0</td>\n",
       "      <td>8.0</td>\n",
       "      <td>13.0</td>\n",
       "      <td>39</td>\n",
       "      <td>1</td>\n",
       "      <td>1.0</td>\n",
       "      <td>33.0</td>\n",
       "      <td>6448.271112</td>\n",
       "    </tr>\n",
       "    <tr>\n",
       "      <th>1</th>\n",
       "      <td>1</td>\n",
       "      <td>1.0</td>\n",
       "      <td>2.0</td>\n",
       "      <td>7.0</td>\n",
       "      <td>14.0</td>\n",
       "      <td>39</td>\n",
       "      <td>1</td>\n",
       "      <td>2.0</td>\n",
       "      <td>39.0</td>\n",
       "      <td>6448.271112</td>\n",
       "    </tr>\n",
       "    <tr>\n",
       "      <th>2</th>\n",
       "      <td>2</td>\n",
       "      <td>3.0</td>\n",
       "      <td>1.0</td>\n",
       "      <td>9.0</td>\n",
       "      <td>2.0</td>\n",
       "      <td>39</td>\n",
       "      <td>1</td>\n",
       "      <td>1.0</td>\n",
       "      <td>14.0</td>\n",
       "      <td>12999.542264</td>\n",
       "    </tr>\n",
       "    <tr>\n",
       "      <th>3</th>\n",
       "      <td>2</td>\n",
       "      <td>1.0</td>\n",
       "      <td>2.0</td>\n",
       "      <td>7.0</td>\n",
       "      <td>0.0</td>\n",
       "      <td>39</td>\n",
       "      <td>1</td>\n",
       "      <td>2.0</td>\n",
       "      <td>17.0</td>\n",
       "      <td>12999.542264</td>\n",
       "    </tr>\n",
       "    <tr>\n",
       "      <th>4</th>\n",
       "      <td>2</td>\n",
       "      <td>1.0</td>\n",
       "      <td>2.0</td>\n",
       "      <td>6.0</td>\n",
       "      <td>3.0</td>\n",
       "      <td>39</td>\n",
       "      <td>1</td>\n",
       "      <td>3.0</td>\n",
       "      <td>18.0</td>\n",
       "      <td>12999.542264</td>\n",
       "    </tr>\n",
       "  </tbody>\n",
       "</table>\n",
       "</div>"
      ],
      "text/plain": [
       "   caseid  nbrnaliv  babysex  birthwgt_lb  birthwgt_oz  prglength  outcome  \\\n",
       "0       1       1.0      1.0          8.0         13.0         39        1   \n",
       "1       1       1.0      2.0          7.0         14.0         39        1   \n",
       "2       2       3.0      1.0          9.0          2.0         39        1   \n",
       "3       2       1.0      2.0          7.0          0.0         39        1   \n",
       "4       2       1.0      2.0          6.0          3.0         39        1   \n",
       "\n",
       "   birthord  agepreg      finalwgt  \n",
       "0       1.0     33.0   6448.271112  \n",
       "1       2.0     39.0   6448.271112  \n",
       "2       1.0     14.0  12999.542264  \n",
       "3       2.0     17.0  12999.542264  \n",
       "4       3.0     18.0  12999.542264  "
      ]
     },
     "execution_count": 7,
     "metadata": {},
     "output_type": "execute_result"
    }
   ],
   "source": [
    "pregnancies = pd.read_fwf(\"/home/venkat/ThinkStats/2002FemPreg.dat\", \n",
    "                         names=[\"caseid\", \"nbrnaliv\", \"babysex\", \"birthwgt_lb\",\n",
    "                               \"birthwgt_oz\", \"prglength\", \"outcome\", \"birthord\",\n",
    "                               \"agepreg\", \"finalwgt\"],\n",
    "                         colspecs=[(0, 12), (21, 22), (55, 56), (57, 58), (58, 60),\n",
    "                                (274, 276), (276, 277), (278, 279), (283, 285), (422, 439)])\n",
    "pregnancies.head()"
   ]
  },
  {
   "cell_type": "code",
   "execution_count": 13,
   "metadata": {},
   "outputs": [
    {
     "name": "stdout",
     "output_type": "stream",
     "text": [
      "[39 39 39 ... 39 39 39]\n",
      "Pregnancy lengths: skewness = -2.855, pearson skewness = -0.488\n",
      "Birth Weights: skewness = -1.318, pearson skewness = -0.382\n"
     ]
    },
    {
     "name": "stderr",
     "output_type": "stream",
     "text": [
      "/home/venkat/.local/lib/python3.6/site-packages/ipykernel_launcher.py:5: SettingWithCopyWarning: \n",
      "A value is trying to be set on a copy of a slice from a DataFrame.\n",
      "Try using .loc[row_indexer,col_indexer] = value instead\n",
      "\n",
      "See the caveats in the documentation: http://pandas.pydata.org/pandas-docs/stable/indexing.html#indexing-view-versus-copy\n",
      "  \"\"\"\n"
     ]
    }
   ],
   "source": [
    "\n",
    "live_births = pregnancies[pregnancies[\"outcome\"] == 1]\n",
    "preg_lengths = np.array(live_births[\"prglength\"].dropna())\n",
    "live_births[\"tot_birthwgt\"] = 16 * live_births[\"birthwgt_lb\"] + live_births[\"birthwgt_oz\"]\n",
    "birth_weights = np.array(live_births[\"tot_birthwgt\"].dropna())\n",
    "\n",
    "print(\"Pregnancy lengths: skewness = %.3f, pearson skewness = %.3f\" % \n",
    "      (skewness(preg_lengths), pearson_skewness(preg_lengths)))\n",
    "print(\"Birth Weights: skewness = %.3f, pearson skewness = %.3f\" % \n",
    "      (skewness(birth_weights), pearson_skewness(birth_weights)))"
   ]
  },
  {
   "cell_type": "code",
   "execution_count": 19,
   "metadata": {},
   "outputs": [
    {
     "name": "stderr",
     "output_type": "stream",
     "text": [
      "/home/venkat/.local/lib/python3.6/site-packages/ipykernel_launcher.py:5: VisibleDeprecationWarning: Passing `normed=True` on non-uniform bins has always been broken, and computes neither the probability density function nor the probability mass function. The result is only correct if the bins are uniform, when density=True will produce the same result anyway. The argument will be removed in a future version of numpy.\n",
      "  \"\"\"\n"
     ]
    },
    {
     "data": {
      "image/png": "[encoded data removed]",
      "text/plain": [
       "<Figure size 432x288 with 1 Axes>"
      ]
     },
     "metadata": {
      "needs_background": "light"
     },
     "output_type": "display_data"
    },
    {
     "name": "stderr",
     "output_type": "stream",
     "text": [
      "/home/venkat/.local/lib/python3.6/site-packages/ipykernel_launcher.py:16: VisibleDeprecationWarning: Passing `normed=True` on non-uniform bins has always been broken, and computes neither the probability density function nor the probability mass function. The result is only correct if the bins are uniform, when density=True will produce the same result anyway. The argument will be removed in a future version of numpy.\n",
      "  app.launch_new_instance()\n"
     ]
    },
    {
     "data": {
      "image/png": "[encoded data removed]",
      "text/plain": [
       "<Figure size 432x288 with 1 Axes>"
      ]
     },
     "metadata": {
      "needs_background": "light"
     },
     "output_type": "display_data"
    }
   ],
   "source": [
    "range_lb = np.min(preg_lengths)\n",
    "range_ub = np.max(preg_lengths)\n",
    "nbr_bins = range_ub - range_lb\n",
    "pmf_preg_lengths = np.histogram(preg_lengths, bins=nbr_bins, range=(range_lb, range_ub), \n",
    "                                normed=True)\n",
    "plt.bar(pmf_preg_lengths[1][:-1], pmf_preg_lengths[0])\n",
    "plt.title(\"Distribution of pregnancy length\")\n",
    "plt.xlabel(\"weeks\")\n",
    "plt.ylabel(\"probability\")\n",
    "plt.show()\n",
    "\n",
    "range_lb = np.min(birth_weights)\n",
    "range_ub = np.max(birth_weights)\n",
    "nbr_bins = int(range_ub - range_lb)\n",
    "pmf_birth_weights = np.histogram(birth_weights, bins=nbr_bins, range=(range_lb, range_ub), \n",
    "                                 normed=True)\n",
    "plt.bar(pmf_birth_weights[1][:-1], pmf_birth_weights[0])\n",
    "plt.title(\"Distribution of birth weights\")\n",
    "plt.xlabel(\"oz\")\n",
    "plt.ylabel(\"probability\")\n",
    "plt.show()"
   ]
  },
  {
   "cell_type": "code",
   "execution_count": null,
   "metadata": {},
   "outputs": [],
   "source": [
    "income_dist = [(0, 2489989), (2500, 11638707), (7500, 12139638), \n",
    "               (12500, 11702056), (17500, 11076002), (22500, 9866247), \n",
    "               (27500, 8743581), (35000, 14554280), (45000, 11087123), \n",
    "               (62500, 19196461), (87500, 11729485), (150000, 13851341),\n",
    "               (350000, 3476747), (750000, 577618), (1250000, 140635), \n",
    "               (1750000, 59460), (3500000, 86329), (7500000, 21390), \n",
    "               (15000000, 13480)]\n",
    "\n",
    "pop = []\n",
    "for income, nbr_reporters in income_dist:\n",
    "    for i in range(nbr_reporters):\n",
    "        pop.append(income)\n",
    "        \n",
    "print(pop)\n",
    "population = np.array(pop)\n",
    "mean = np.mean(population)\n",
    "nbr_pop = population.shape[0]\n",
    "nbr_below_mean = np.where(population < mean)[0].shape[0]\n",
    "median = np.median(population)\n",
    "skewness = skewness(pop)\n",
    "pearson_skewness = pearson_skewness(pop)\n",
    "print(\"Fraction of population reporting below mean income: %.3f\" % (nbr_below_mean / nbr_pop))\n",
    "print(\"Mean of distribution: %.2f\" % (mean))\n",
    "print(\"Median of distribution: %.2f\" % (median))\n",
    "print(\"Skewness of distribution: %.3f\" % (skewness))\n",
    "print(\"Pearson Skewness of distribution: %.3f\" % (pearson_skewness))"
   ]
  },
  {
   "cell_type": "markdown",
   "metadata": {},
   "source": [
    "# Random Variables\n",
    "\n",
    "Represents a process that generated it. It is a random value selected from a distribution.\n",
    "\n",
    "\n",
    "\n"
   ]
  },
  {
   "cell_type": "code",
   "execution_count": 13,
   "metadata": {},
   "outputs": [
    {
     "name": "stdout",
     "output_type": "stream",
     "text": [
      "exponential(0.1) = 0.000\n"
     ]
    }
   ],
   "source": [
    "class RandomVariable(object):\n",
    "    \"\"\" Parent class of all random variables \"\"\"\n",
    "    \n",
    "class Exponential(RandomVariable):\n",
    "    def __init__(self, lam):\n",
    "        self.lam = lam\n",
    "    def generate(self):\n",
    "        return np.random.exponential(self.lam)\n",
    "\n",
    "\n",
    "e = Exponential(0.1)\n",
    "print(\"exponential(0.1) = %.3f\" % (e.generate()))\n"
   ]
  },
  {
   "cell_type": "markdown",
   "metadata": {},
   "source": [
    "## PDFs\n",
    "\n",
    "The derivative of a CDF is called a PDF (probability density function). \n",
    "\n",
    "$$PDF_{expo}(x) = \\lambda e^{-\\lambda x}$$\n",
    "\n",
    "$$PDF_{normal}(x) = \\frac{1}{\\sigma \\sqrt{2 \\pi}} exp \\left [ -\\frac{1}{2} \\left ( \\frac{x - \\mu}{\\sigma} \\right )^{2} \\right ]$$\n",
    "\n",
    "Evaluating a PDF at some x results in a probability density. To get the probability mass, we have to integrate over x. For example, the probability that X falls within (-0.5, 0.5) is:\n",
    "\n",
    "$$P(-0.5 \\leq X < 0.5) = \\int_{-0.5}^{0.5} PDF_{X}(x) dx$$\n",
    "\n",
    "or equivalently:\n",
    "\n",
    "$$P(-0.5 \\leq X < 0.5) = CDF_{X}(0.5) - CDF_{X}(-0.5)$$\n"
   ]
  },
  {
   "cell_type": "code",
   "execution_count": 14,
   "metadata": {},
   "outputs": [
    {
     "name": "stdout",
     "output_type": "stream",
     "text": [
      "percentage of male population in range: 34.186\n"
     ]
    }
   ],
   "source": [
    "norm = scipy.stats.norm(loc=178, scale=math.sqrt(59.4))\n",
    "prob = norm.cdf(185.4) - norm.cdf(177.8)\n",
    "print(\"percentage of male population in range: %.3f\" % (prob * 100))"
   ]
  },
  {
   "cell_type": "markdown",
   "metadata": {},
   "source": [
    "## Convolutions\n",
    "\n",
    "Answers question - if we have two random variables X and Y, with distributions CDF(x) and CDF(y), what is the distribution for the sum Z = X + Y?\n",
    "\n",
    "$$PDF_{Z}(z) = \\int_{-\\infty}^{\\infty} PDF_{Y}(z-x)PDF_{X}(x)dx$$\n",
    "\n",
    "$$PDF_{Z} = PDF_{Y} \\star PDF_{X}$$\n",
    "\n",
    "As an example, assuming X and Y are exponential distributions with parameter $\\lambda$. Then the distribution of Z = X + Y is:\n",
    "\n",
    "$$PDF_{Z}(z) = \\int_{-\\infty }^{\\infty } PDF_{X}(x)PDF_{Y}(z-x) dx = \\int_{-\\infty }^{\\infty } \\lambda e^{-\\lambda x} \\lambda e^{\\lambda (z-x)} dx$$\n",
    "\n",
    "Since exponential is 0 for all negative values, we can adjust our limits:\n",
    "\n",
    "$$PDF_{Z}(z) = \\int_{0}^{z} \\lambda e^{-\\lambda x} \\lambda e^{-\\lambda(z - x)} dx = \\lambda^{2} e^{-\\lambda z} \\int_{0}^{z} dx = \\lambda^{2} z e^{-\\lambda z}$$\n",
    "\n",
    "__Exercise 6.7:__ If X has an exponential distribution with parameter $\\lambda$ and Y has an Erlang distribution with parameters $\\lambda$ and k, what is the distribution of the sum Z = X + Y?\n",
    "\n",
    "$$PDF_{expo} = \\lambda e^{-\\lambda x}$$\n",
    "\n",
    "$$PDF_{erlang} = \\frac{\\lambda^{k} x^{k-1} e^{-\\lambda x}}{(k-1)!}$$\n",
    "\n",
    "$$PDF_{Z}(z) = \\int_{-\\infty}^{\\infty} PDF_{Y}(z-x) PDF_{X}(x) dx = \\frac{\\lambda^{k+1}}{(k-1)!} \\int_{-\\infty}^{\\infty} (z-x)^{k-1} e^{-\\lambda z} dx$$\n",
    "\n",
    "__Exercise 6.9:__ If you are given PMF objects, you can compute the distribution of the sum (or max) by enumerating all pairs of values. Write a function that computes the PMF of Z = max(X, Y)."
   ]
  },
  {
   "cell_type": "code",
   "execution_count": 15,
   "metadata": {},
   "outputs": [
    {
     "name": "stderr",
     "output_type": "stream",
     "text": [
      "/home/venkat/.local/lib/python3.6/site-packages/ipykernel_launcher.py:8: VisibleDeprecationWarning: Passing `normed=True` on non-uniform bins has always been broken, and computes neither the probability density function nor the probability mass function. The result is only correct if the bins are uniform, when density=True will produce the same result anyway. The argument will be removed in a future version of numpy.\n",
      "  \n",
      "/home/venkat/.local/lib/python3.6/site-packages/ipykernel_launcher.py:9: VisibleDeprecationWarning: Passing `normed=True` on non-uniform bins has always been broken, and computes neither the probability density function nor the probability mass function. The result is only correct if the bins are uniform, when density=True will produce the same result anyway. The argument will be removed in a future version of numpy.\n",
      "  if __name__ == '__main__':\n",
      "/home/venkat/.local/lib/python3.6/site-packages/ipykernel_launcher.py:10: VisibleDeprecationWarning: Passing `normed=True` on non-uniform bins has always been broken, and computes neither the probability density function nor the probability mass function. The result is only correct if the bins are uniform, when density=True will produce the same result anyway. The argument will be removed in a future version of numpy.\n",
      "  # Remove the CWD from sys.path while we load stuff.\n"
     ]
    },
    {
     "data": {
      "text/plain": [
       "<matplotlib.legend.Legend at 0x7f1839ac6048>"
      ]
     },
     "execution_count": 15,
     "metadata": {},
     "output_type": "execute_result"
    },
    {
     "data": {
      "image/png": "[encoded data removed]",
      "text/plain": [
       "<Figure size 432x288 with 1 Axes>"
      ]
     },
     "metadata": {
      "needs_background": "light"
     },
     "output_type": "display_data"
    }
   ],
   "source": [
    "xs = np.random.normal(2, 0.5, 10000)\n",
    "ys = np.random.normal(1.75, 0.25, 10000)\n",
    "zs = []\n",
    "for x in xs:\n",
    "    for y in ys:\n",
    "        zs.append(max(x, y))\n",
    "        \n",
    "pmf_xs = np.histogram(xs, bins=100, normed=True)\n",
    "pmf_ys = np.histogram(ys, bins=100, normed=True)\n",
    "pmf_zs = np.histogram(zs, bins=100, normed=True)\n",
    "\n",
    "plt.plot(pmf_xs[1][:-1], pmf_xs[0], color=\"red\", label=\"X\")\n",
    "plt.plot(pmf_ys[1][:-1], pmf_ys[0], color=\"blue\", label=\"Y\")\n",
    "plt.plot(pmf_zs[1][:-1], pmf_zs[0], color=\"green\", label=\"max(X, Y)\")\n",
    "plt.xlabel(\"x\")\n",
    "plt.ylabel(\"probability\")\n",
    "plt.legend(loc=\"best\")\n"
   ]
  },
  {
   "cell_type": "markdown",
   "metadata": {},
   "source": [
    "## Why normal?\n",
    "\n",
    "Normal distributions are closed under linear transformation and convolution. Assume a distribution $X \\sim \\mathcal{N} (\\mu, \\sigma^{2})$, the distribution over a linear transformation $X{}' = aX + b$ is given by:\n",
    "\n",
    "$$X{}' \\sim \\mathcal{N} (a \\mu + b, a^{2}\\sigma^{2})$$\n",
    "\n",
    "The distribution over a convolution Z = X + Y, where $X \\sim \\mathcal{N}(\\mu_{X}, \\sigma_{X^{2}})$ and $Y \\sim \\mathcal{N}(\\mu_{Y}, \\sigma_{Y^{2}})$ is given by:\n",
    "\n",
    "$$Z \\sim \\mathcal{N}(\\mu_{X} + \\mu_{Y}, \\sigma_{X}^{2} + \\sigma_{X}^2)$$"
   ]
  },
  {
   "cell_type": "code",
   "execution_count": 16,
   "metadata": {},
   "outputs": [
    {
     "name": "stderr",
     "output_type": "stream",
     "text": [
      "/home/venkat/.local/lib/python3.6/site-packages/ipykernel_launcher.py:8: VisibleDeprecationWarning: Passing `normed=True` on non-uniform bins has always been broken, and computes neither the probability density function nor the probability mass function. The result is only correct if the bins are uniform, when density=True will produce the same result anyway. The argument will be removed in a future version of numpy.\n",
      "  \n",
      "/home/venkat/.local/lib/python3.6/site-packages/ipykernel_launcher.py:9: VisibleDeprecationWarning: Passing `normed=True` on non-uniform bins has always been broken, and computes neither the probability density function nor the probability mass function. The result is only correct if the bins are uniform, when density=True will produce the same result anyway. The argument will be removed in a future version of numpy.\n",
      "  if __name__ == '__main__':\n",
      "/home/venkat/.local/lib/python3.6/site-packages/ipykernel_launcher.py:10: VisibleDeprecationWarning: Passing `normed=True` on non-uniform bins has always been broken, and computes neither the probability density function nor the probability mass function. The result is only correct if the bins are uniform, when density=True will produce the same result anyway. The argument will be removed in a future version of numpy.\n",
      "  # Remove the CWD from sys.path while we load stuff.\n"
     ]
    },
    {
     "data": {
      "text/plain": [
       "<matplotlib.legend.Legend at 0x7f189f9706a0>"
      ]
     },
     "execution_count": 16,
     "metadata": {},
     "output_type": "execute_result"
    },
    {
     "data": {
      "image/png": "[encoded data removed]",
      "text/plain": [
       "<Figure size 432x288 with 1 Axes>"
      ]
     },
     "metadata": {
      "needs_background": "light"
     },
     "output_type": "display_data"
    }
   ],
   "source": [
    "# X ~ Pareto distribution x_min = 1, alpha = 5\n",
    "#  mean = 1.25 and variance = 0.1\n",
    "# Y ~ Normal mean = 1.25, variance = 0.1\n",
    "xs = 1 + np.random.pareto(5, 1000)\n",
    "ys = np.random.normal(1.25, 0.1, 1000)\n",
    "zs = xs + ys\n",
    "\n",
    "pmf_xs = np.histogram(xs, bins=50, normed=True)\n",
    "pmf_ys = np.histogram(ys, bins=50, normed=True)\n",
    "pmf_zs = np.histogram(zs, bins=50, normed=True)\n",
    "\n",
    "plt.plot(pmf_xs[1][:-1], pmf_xs[0], color=\"red\", label=\"X\")\n",
    "plt.plot(pmf_ys[1][:-1], pmf_ys[0], color=\"blue\", label=\"Y\")\n",
    "plt.plot(pmf_zs[1][:-1], pmf_zs[0], color=\"green\", label=\"Z = X + Y\")\n",
    "plt.xlabel(\"x\")\n",
    "plt.ylabel(\"probability\")\n",
    "plt.legend(loc=\"best\")"
   ]
  },
  {
   "cell_type": "code",
   "execution_count": 17,
   "metadata": {},
   "outputs": [
    {
     "data": {
      "text/plain": [
       "Text(0.5, 1.0, 'Z is lognormal distribution')"
      ]
     },
     "execution_count": 17,
     "metadata": {},
     "output_type": "execute_result"
    },
    {
     "data": {
      "image/png": "[encoded data removed]",
      "text/plain": [
       "<Figure size 432x288 with 1 Axes>"
      ]
     },
     "metadata": {
      "needs_background": "light"
     },
     "output_type": "display_data"
    }
   ],
   "source": [
    "plt.semilogx(pmf_zs[1][:-1], pmf_zs[0])\n",
    "plt.xlabel(\"log(Z)\")\n",
    "plt.ylabel(\"probability\")\n",
    "plt.title(\"Z is lognormal distribution\")"
   ]
  },
  {
   "cell_type": "markdown",
   "metadata": {},
   "source": [
    "## Central Limit Theorem\n",
    "\n",
    "If we add up the values from almost any distribution, the distribution of the sums converge to normal. Further if the distribution has mean $\\mu$ and standard deviation $\\sigma$, then the distribution of the sum is approximately $\\mathcal{N}(n\\mu, n\\sigma^{2})$.\n",
    "\n",
    "Caveats:\n",
    "* values have to be drawn independently\n",
    "* values have to come from the same distribution\n",
    "* values have to be drawn from a distribution with finite mean and variance (so no Pareto).\n",
    "* number of values needed depends on skewness.\n"
   ]
  },
  {
   "cell_type": "code",
   "execution_count": 18,
   "metadata": {},
   "outputs": [
    {
     "data": {
      "text/plain": [
       "Text(0, 0.5, 'Sum of samples')"
      ]
     },
     "execution_count": 18,
     "metadata": {},
     "output_type": "execute_result"
    },
    {
     "data": {
      "image/png": "[encoded data removed]",
      "text/plain": [
       "<Figure size 432x288 with 1 Axes>"
      ]
     },
     "metadata": {
      "needs_background": "light"
     },
     "output_type": "display_data"
    }
   ],
   "source": [
    "num_samples = 500\n",
    "sample_sums = np.zeros(num_samples)\n",
    "sample_sizes = np.logspace(1, 16, num=num_samples, endpoint=True, base=2)\n",
    "for i in range(num_samples):\n",
    "    samples = np.random.exponential(5, int(sample_sizes[i]))\n",
    "    sample_sums[i] = np.sum(samples)\n",
    "dataset = np.sort(sample_sums)\n",
    "\n",
    "# normal_samples\n",
    "normal_samples = np.sort(np.random.normal(0, 1, num_samples))\n",
    "plt.scatter(normal_samples, dataset)\n",
    "plt.xlabel(\"Standard normal values\")\n",
    "plt.ylabel(\"Sum of samples\")"
   ]
  },
  {
   "cell_type": "code",
   "execution_count": null,
   "metadata": {},
   "outputs": [],
   "source": []
  }
 ],
 "metadata": {
  "kernelspec": {
   "display_name": "Python 2",
   "language": "python",
   "name": "python2"
  },
  "language_info": {
   "codemirror_mode": {
    "name": "ipython",
    "version": 3
   },
   "file_extension": ".py",
   "mimetype": "text/x-python",
   "name": "python",
   "nbconvert_exporter": "python",
   "pygments_lexer": "ipython3",
   "version": "3.6.6"
  }
 },
 "nbformat": 4,
 "nbformat_minor": 2
}
