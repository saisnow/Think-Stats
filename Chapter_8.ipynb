{
 "cells": [
  {
   "cell_type": "markdown",
   "metadata": {},
   "source": [
    "# Chapter : 8 : Estimation\n",
    "\n",
    "Objective: Estimating based on insufficient evidence\n",
    "        "
   ]
  },
  {
   "cell_type": "code",
   "execution_count": 1,
   "metadata": {},
   "outputs": [],
   "source": [
    "from __future__ import division, print_function\n",
    "import numpy as np\n",
    "import math\n",
    "import matplotlib.pyplot as plt\n",
    "import scipy.misc\n",
    "%matplotlib inline"
   ]
  },
  {
   "cell_type": "markdown",
   "metadata": {},
   "source": [
    "## The Estimation Game\n",
    "\n",
    "To estimate the mean $\\mu$ of a distribution, the sample mean $\\bar{x}$ is a good measure but if there are known outliers it can be better to use the median instead. Process is called estimation and the measure is called estimator.\n",
    "\n",
    "If there are no outliers, the sample mean minimizes the Mean Square Error (MSE), given by the formula below, where $\\bar{x}$ is computed over m tries.\n",
    "\n",
    "$$MSE = \\frac{1}{m} \\sum (\\bar{x} - \\mu)^{2}$$\n",
    "\n",
    "Where m is the number of times you play the estimation game\n",
    "\n",
    "Sometimes minimizing MSE is not the best strategy. An estimator that has the highest chance of being right is the Maximum Likelihood Estimator (MLE).\n",
    "\n"
   ]
  },
  {
   "cell_type": "markdown",
   "metadata": {},
   "source": [
    "Exercise 8.1:Write a function that draws 6 values from a normal distribution with $\\mu$ = 0 and $\\sigma$ = 1. Use the sample mean to estimate $\\mu$ and compute the error $\\bar{x}-\\mu$. Run the function 1000 times and compute MSE. \n",
    "\n",
    "Now modify the program to use the median as an estimator. Compute MSE again and compare to the MSE for $\\bar{x}$."
   ]
  },
  {
   "cell_type": "code",
   "execution_count": 2,
   "metadata": {},
   "outputs": [
    {
     "name": "stdout",
     "output_type": "stream",
     "text": [
      "MSE using sample mean as estimator: 0.163\n",
      "MSE using sample median as estimator: 0.223\n"
     ]
    }
   ],
   "source": [
    "err_mean = np.zeros(1000)\n",
    "err_med = np.zeros(1000)\n",
    "for i in range(1000):\n",
    "    dist = np.random.normal(0, 1, 6)\n",
    "    err_mean[i] = np.mean(dist)\n",
    "    err_med[i] = np.median(dist)\n",
    "print(\"MSE using sample mean as estimator: %.3f\" % (np.sum(np.power(err_mean, 2)) / 1000))\n",
    "print(\"MSE using sample median as estimator: %.3f\" % (np.sum(np.power(err_med, 2)) / 1000))"
   ]
  },
  {
   "cell_type": "markdown",
   "metadata": {},
   "source": [
    "## Guess the variance\n",
    "\n",
    "One estimator for variance $\\sigma^{2}$ is sample variance, which is a biased estimator because it tends to be too low for small samples.\n",
    "\n",
    "$$S^{2} = \\frac {1}{n} \\sum (x_{i} - \\bar{x})^{2}$$\n",
    "\n",
    "The following is an unbiased estimator variant for $\\sigma^{2}$.\n",
    "\n",
    "$$S_{n-1}^{2} = \\frac {1}{n-1} \\sum (x_{i} - \\bar{x})^{2}$$\n",
    "\n",
    "Exercise 8.2:Write a function that draws 6 values froma normal distribution with $\\mu$ = 0 and $\\sigma$ = 1. Use the sample variance to estimate $\\sigma^{2}$ and compute the error $S^{2} - \\sigma^{2}$. Run the function 1000 times and compute mean error (not squared).\n",
    "\n",
    "Now modify the program to use the unbiased estimator $S_{n-1}^{2}$. Compute the mean error again and see if it converges to zero as you increase the number of games."
   ]
  },
  {
   "cell_type": "code",
   "execution_count": 7,
   "metadata": {},
   "outputs": [
    {
     "data": {
      "text/plain": [
       "<matplotlib.legend.Legend at 0x7f0a2d23d4e0>"
      ]
     },
     "execution_count": 7,
     "metadata": {},
     "output_type": "execute_result"
    },
    {
     "data": {
      "image/png": "[encoded data removed]",
      "text/plain": [
       "<Figure size 432x288 with 1 Axes>"
      ]
     },
     "metadata": {
      "needs_background": "light"
     },
     "output_type": "display_data"
    }
   ],
   "source": [
    "def estimate_variances(nbr_games):\n",
    "    mean_error_biased = np.zeros(nbr_games)\n",
    "    mean_error_unbiased = np.zeros(nbr_games)\n",
    "    for i in range(nbr_games):\n",
    "        dist = np.random.normal(0, 1, 6)\n",
    "        xbar = np.mean(dist)\n",
    "        s2 = np.sum(np.power(dist - xbar, 2)) / nbr_games\n",
    "        mean_error_biased[i] = np.mean(s2)\n",
    "        us2 = np.sum(np.power(dist - xbar, 2)) / (nbr_games - 1)\n",
    "        mean_error_unbiased[i] = np.mean(us2)\n",
    "    return np.mean(mean_error_biased), np.mean(mean_error_unbiased)\n",
    "\n",
    "variances = []\n",
    "for nbr_games in range(100, 1100, 100):\n",
    "    variances.append(estimate_variances(nbr_games))\n",
    "    \n",
    "plt.plot(range(100, 1100, 100), [x[0] for x in variances], color='r', \n",
    "         marker='o', label=r\"$S^{2}$\")\n",
    "plt.plot(range(100, 1100, 100), [x[1] for x in variances], color='b', \n",
    "         marker='x', label=r\"$S_{n-1}^2$\")\n",
    "plt.xlabel(\"number of trials\")\n",
    "plt.ylabel(\"error\")\n",
    "plt.legend(loc=\"best\")"
   ]
  },
  {
   "cell_type": "markdown",
   "metadata": {},
   "source": [
    "## Understanding Errors\n",
    "\n",
    "Its important to remember that you can compute the value of the estimator but not the value of the error because you don't have the labels.\n",
    "\n",
    "## Exponential Distributions\n",
    "\n",
    "Mean of an exponential distribution is $\\frac{1}{\\lambda}$, so our estimator is given by:\n",
    "\n",
    "$$\\hat{\\lambda} = \\frac {1}{\\bar{x}}$$\n",
    "\n",
    "But $\\bar{x}$ is not robust in the presence of outliers, so the median estimator is given by the formula (here $\\mu_{1/2}$ is the sample median).\n",
    "\n",
    "$$\\hat{\\lambda_{1/2}} = \\frac {ln(2)}{\\mu_{1/2}}$$"
   ]
  },
  {
   "cell_type": "markdown",
   "metadata": {},
   "source": [
    "Run an experiment to see which of $\\lambda$ and $\\lambda_{1/2}$ yields lower\n",
    "MSE. Test whether either of them is biased (ie, see if it varies a lot by sample size)."
   ]
  },
  {
   "cell_type": "code",
   "execution_count": 17,
   "metadata": {},
   "outputs": [
    {
     "name": "stdout",
     "output_type": "stream",
     "text": [
      "MSE with mean as estimator: 69.786\n",
      "MSE with median as estimator: 57.653\n"
     ]
    },
    {
     "data": {
      "text/plain": [
       "<matplotlib.legend.Legend at 0x7f0a2ce8e7f0>"
      ]
     },
     "execution_count": 17,
     "metadata": {},
     "output_type": "execute_result"
    },
    {
     "data": {
      "image/png": "[encoded data removed]",
      "text/plain": [
       "<Figure size 432x288 with 1 Axes>"
      ]
     },
     "metadata": {
      "needs_background": "light"
     },
     "output_type": "display_data"
    }
   ],
   "source": [
    "sample = np.array([5.384, 4.493, 19.198, 2.790, 6.122, 12.844])\n",
    "input_mean = np.mean(sample)\n",
    "input_med = np.median(sample)\n",
    "lam = 1 / input_mean\n",
    "\n",
    "# generate samples with lam_bar\n",
    "xmeans = np.zeros(1000)\n",
    "xmeds = np.zeros(1000)\n",
    "for i in range(1000):\n",
    "    dist_mean = np.random.exponential(lam, 6)\n",
    "    xmeans[i] = np.mean(dist_mean)\n",
    "    xmeds[i] = math.log(2, math.e) / np.median(dist_mean)\n",
    "print(\"MSE with mean as estimator: %.3f\" % (np.sum(np.power(xmeans - input_mean, 2)) / 1000))\n",
    "print(\"MSE with median as estimator: %.3f\" % (np.sum(np.power(xmeds - input_med, 2)) / 1000))\n",
    "\n",
    "# test if either of them is biased \n",
    "mse_means = []\n",
    "mse_meds = []\n",
    "for nbr_trials in range(100, 1100, 100):\n",
    "    xmeans = np.zeros(1000)\n",
    "    xmeds = np.zeros(1000)\n",
    "    for i in range(1000):\n",
    "        dist_mean = np.random.exponential(lam, 6)\n",
    "        xmeans[i] = np.mean(dist_mean)\n",
    "        xmeds[i] = math.log(2, math.e) / np.median(dist_mean)\n",
    "    mse_means.append(np.sum(np.power(xmeans - input_mean, 2)) / 1000)\n",
    "    mse_meds.append(np.sum(np.power(xmeds - input_med, 2)) / 1000)\n",
    "plt.plot(range(100, 1100, 100), mse_means, color=\"r\", marker=\"o\", label=\"MSE (mean)\")\n",
    "plt.plot(range(100, 1100, 100), mse_meds, color=\"b\", marker=\"x\", label=\"MSE (median)\")\n",
    "plt.xlabel(\"number of trials\")\n",
    "plt.ylabel(\"MSE\")\n",
    "plt.legend(loc=\"best\")\n"
   ]
  },
  {
   "cell_type": "markdown",
   "metadata": {},
   "source": [
    "## Confidence Intervals\n",
    "\n",
    "Instead of apoint estimate, we want a confidence interval for $\\lambda$. A 90% confidence interval is indicated by $\\alpha$ = 0.1. The confidence interval of $\\lambda$ is given by:\n",
    "\n",
    "$$\\left ( \\hat{\\lambda} \\frac {\\chi^{2}(2n, 1-\\alpha/2)}{2n}, \\hat{\\lambda} \\frac {\\chi^{2}(2n, \\alpha/2)}{2n} \\right )$$\n",
    "\n",
    "where n is the sample size, $\\hat{\\lambda}$ is the mean based estimator from previous section, and $\\chi^{2}(k, x)$ is the CDF of a chi-squared distribution with k-degrees of freedom evaluated at x.\n",
    "\n",
    "## Bayesian Estimation\n",
    "\n",
    "Compute a 90% Confidence Interval for $\\lambda$ for an exponential distribution, a sample of which is given by the following: {2.675, 0.198, 1.152, 0.787, 2.717, 4.269}. The value of $\\lambda$ is drawn from a uniform distribution in the range (0.15, 1.5).\n",
    "\n",
    "General approach is as follows:\n",
    "\n",
    "Split up the interval into n equally spaced bins.\n",
    "\n",
    "For each bin, we have H(i), the hypothesis that lambda is from this bin. Since its a uniform distribution, P(H(i)) = 1/n.\n",
    "\n",
    "Compute P(X|H(i)) as follows:\n",
    "\n",
    "$$P(X|H_{i}) = \\prod_{j} PDF_{expo}(\\lambda, x) = \\prod_{j} \\lambda e^{-\\lambda x}$$\n",
    "\n",
    "Compute P(H(i)|X) by Bayes theorem:\n",
    "\n",
    "$$P(H_{i}|X) = P(H_{i})P(X|H_{i}) / f$$\n",
    "\n",
    "where f is the normalizing factor, given by:\n",
    "\n",
    "$$f = \\sum P(H_{i})P(X|H_{i})$$\n",
    "\n",
    "From the posterior distribution, we can now compute a CDF and find the confidence interval as the difference between the 95th percentile and 5th percentile."
   ]
  },
  {
   "cell_type": "code",
   "execution_count": 18,
   "metadata": {},
   "outputs": [
    {
     "name": "stdout",
     "output_type": "stream",
     "text": [
      "90 percent confidence interval for lambda: 0.280 - 0.999\n"
     ]
    }
   ],
   "source": [
    "# input\n",
    "xs = np.array([2.675, 0.198, 1.152, 0.787, 2.717, 4.269])\n",
    "\n",
    "# split uniform space from which lambda is drawn into m equal bins\n",
    "bins = np.linspace(0.15, 1.5, 1001)\n",
    "nbr_bins = bins.shape[0] - 1\n",
    "p_h = np.ones(nbr_bins) / nbr_bins\n",
    "p_xh = np.zeros(nbr_bins)\n",
    "\n",
    "# H = lambda is from this bin; for each bin, find the P(X|H)\n",
    "for i in range(nbr_bins):\n",
    "    lb = bins[i]\n",
    "    ub = bins[i+1]\n",
    "    lams = np.random.uniform(low=lb, high=ub, size=100)\n",
    "    p_xh_lams = np.ones(lams.shape[0])\n",
    "    for j in range(lams.shape[0]):\n",
    "        for k in range(xs.shape[0]):\n",
    "            p_xh_lams[j] *= lams[j] * math.exp(-lams[j] * xs[k])\n",
    "    p_xh[i] = np.mean(p_xh_lams)\n",
    "\n",
    "# compute normalizing factor\n",
    "f = np.dot(p_h, p_xh)\n",
    "\n",
    "# compute posterior\n",
    "p_hx = np.multiply(p_xh, p_h) / f\n",
    "\n",
    "# compute CDF of posterior\n",
    "cdf_phx_ps = np.cumsum(p_hx)\n",
    "cdf_phx_xs = bins[:-1]\n",
    "\n",
    "# compute 90 percent confidence interval\n",
    "idx_5p = np.where(cdf_phx_ps <= 0.05)[0][-1]\n",
    "idx_95p = np.where(cdf_phx_ps >= 0.95)[0][0]\n",
    "lam_90ci_lb = cdf_phx_xs[idx_5p]\n",
    "lam_90ci_ub = cdf_phx_xs[idx_95p]\n",
    "print(\"90 percent confidence interval for lambda: %.3f - %.3f\" % (lam_90ci_lb, lam_90ci_ub))"
   ]
  },
  {
   "cell_type": "markdown",
   "metadata": {},
   "source": [
    "## Censored Data\n",
    "\n",
    "Problem - Unstable particles are emitted from a source and decay at a distance x, a real number that has an exponential probability distribution with parameter $\\lambda$. Decay events __can only be observed if they occur in a window extending from x = 1 cm to x = 20 cm__. n decays are observed at locations { x1, ... , xN }. What is $\\lambda$?\n",
    "\n",
    "Above is example of estimation using __censored data__, ie, we know that some data is systematically excluded. For this we need to modify the $PDF_{expo}$ with the conditional distribution $PDF_{cond}$:\n",
    "\n",
    "$$PDF_{cond}(\\lambda, x) = \\lambda e^{-lambda x} / Z(\\lambda)$$\n",
    "\n",
    "where:\n",
    "\n",
    "$$Z(\\lambda) = \\int_{0}^{20} \\lambda e^{-\\lambda x}dx = e^{-\\lambda} - e^{-20 \\lambda}$$\n",
    "\n",
    "Exercise 8.4: Modify above code to compute the posterior distribution of l for the sample X = {1.5, 2, 3, 4, 5, 12}. For the prior you can use a uniform distribution between 0 and 1.5 (not including 0)."
   ]
  },
  {
   "cell_type": "code",
   "execution_count": 19,
   "metadata": {},
   "outputs": [
    {
     "data": {
      "text/plain": [
       "Text(0, 0.5, 'P(H|X)')"
      ]
     },
     "execution_count": 19,
     "metadata": {},
     "output_type": "execute_result"
    },
    {
     "data": {
      "image/png": "[encoded data removed]",
      "text/plain": [
       "<Figure size 432x288 with 1 Axes>"
      ]
     },
     "metadata": {
      "needs_background": "light"
     },
     "output_type": "display_data"
    }
   ],
   "source": [
    "# input\n",
    "xs = np.array([1.5, 2, 3, 4, 5, 12])\n",
    "\n",
    "# split uniform space from which lambda is drawn into m equal bins\n",
    "bins = np.linspace(0.001, 1.5, 1001)\n",
    "nbr_bins = bins.shape[0] - 1\n",
    "p_h = np.ones(nbr_bins) / nbr_bins\n",
    "p_xh = np.zeros(nbr_bins)\n",
    "\n",
    "# H = lambda is from this bin; for each bin, find the P(X|H)\n",
    "for i in range(nbr_bins):\n",
    "    lb = bins[i]\n",
    "    ub = bins[i+1]\n",
    "    lams = np.random.uniform(low=lb, high=ub, size=100)\n",
    "    p_xh_lams = np.ones(lams.shape[0])\n",
    "    for j in range(lams.shape[0]):\n",
    "        for k in range(xs.shape[0]):\n",
    "            # updated to get conditional probability\n",
    "            z = math.exp(-lams[j]) - math.exp(-20 * lams[j])\n",
    "            p_xh_lams[j] *= lams[j] * math.exp(-lams[j] * xs[k]) / z\n",
    "    p_xh[i] = np.mean(p_xh_lams)\n",
    "\n",
    "# compute normalizing factor\n",
    "f = np.dot(p_h, p_xh)\n",
    "\n",
    "# compute posterior\n",
    "p_hx = np.multiply(p_xh, p_h) / f\n",
    "\n",
    "plt.plot(bins[:-1], p_hx)\n",
    "plt.xlabel(\"lambda\")\n",
    "plt.ylabel(\"P(H|X)\")"
   ]
  },
  {
   "cell_type": "markdown",
   "metadata": {},
   "source": [
    "__Exercise 8.5:__ In the 2008 Minnesota Senate race the final vote count was 1,212,629 votes for Al Franken and 1,212,317 votes for Norm Coleman. Franken was declared the winner, but as Charles Seife points out in Proofiness, the margin of victory was much smaller than the [margin of error](http://www.dummies.com/how-to/content/how-to-calculate-the-margin-of-error-for-a-sample-.html), so the result should have been considered a tie. \n",
    "\n",
    "Assuming that there is a chance that any vote might be lost and a chance that any vote might be double-counted, what is the probability that Coleman actually received more votes? \n",
    "\n",
    "Hint: you will have to fill in some details to model the error process. Also see [this blog post](http://allendowney.blogspot.com/2011/01/proofiness-and-elections.html) by Allen Downey for a discussion.\n",
    "\n",
    "_We choose to model the votes as Poisson distributions based on a comment in the blog post above (per the definition, Poisson is the limit of binomial for large n)._"
   ]
  },
  {
   "cell_type": "code",
   "execution_count": 20,
   "metadata": {},
   "outputs": [
    {
     "name": "stdout",
     "output_type": "stream",
     "text": [
      "p(coleman got more votes): 0.403\n"
     ]
    }
   ],
   "source": [
    "np.random.seed(1)\n",
    "franken_dist = np.random.poisson(1212629, 1000)\n",
    "coleman_dist = np.random.poisson(1212317, 1000)\n",
    "nbr_coleman_wins = 0\n",
    "for i in range(1000):\n",
    "    if franken_dist[i] < coleman_dist[i]:\n",
    "        nbr_coleman_wins += 1\n",
    "print(\"p(coleman got more votes): %.3f\" % (nbr_coleman_wins / 1000))"
   ]
  },
  {
   "cell_type": "markdown",
   "metadata": {},
   "source": [
    "## The Locomotive Problem\n",
    "\n",
    "Also known as the German Tank Problem. Problem is as follows:\n",
    "\n",
    "A railroad numbers its locomotives in order 1..N. One day you see a locomotive with the number 60. Estimate how many locomotives the railroad has?\n",
    "\n",
    "_If I see train 60, then there has to be at minimum 60 trains. This is also the MLE assuming a uniform distribution, p(60|60) = 1/60. If N > 60, then p(i|N) < 1/60._\n",
    "\n",
    "_Using the symmetry principle as described [here](http://math.stackexchange.com/questions/111374/solution-to-locomotive-problem-mosteller-fifty-challenging-problems-in-probabi), the best guess for the number of locomotives is 119 (locomotive 60, plus an equal number on either \"side\" of 60 gives 59 + 59 + 1 = 119._\n",
    "\n",
    "_Posterior probability for each hypothesis $H_{n}$ that there are n trains is given by:_\n",
    "\n",
    "$$P(H_{n} \\space | \\space i) = \\frac {P(i \\space | \\space H_{n}) P(H_{n})}{P(i)}$$"
   ]
  },
  {
   "cell_type": "code",
   "execution_count": 21,
   "metadata": {},
   "outputs": [
    {
     "data": {
      "text/plain": [
       "Text(0, 0.5, 'posterior probability')"
      ]
     },
     "execution_count": 21,
     "metadata": {},
     "output_type": "execute_result"
    },
    {
     "data": {
      "image/png": "[encoded data removed]",
      "text/plain": [
       "<Figure size 432x288 with 1 Axes>"
      ]
     },
     "metadata": {
      "needs_background": "light"
     },
     "output_type": "display_data"
    }
   ],
   "source": [
    "def prob_ihn(i, k):\n",
    "    if i < k:\n",
    "        return 0\n",
    "    else:\n",
    "        return 1 / i\n",
    "    \n",
    "nbr_trains = range(0, 120)\n",
    "probs = np.zeros(120)\n",
    "for i in nbr_trains:\n",
    "    # P(g|Hn) = prob guess i  \n",
    "    # P(Hn) = prob there are n trains is uniform hence 1/i\n",
    "    probs[i] = prob_ihn(i, 60) * (1/120)\n",
    "denom = np.sum(probs)\n",
    "probs = probs / denom\n",
    "plt.plot(range(120), probs)\n",
    "plt.xlim((50, 120))\n",
    "plt.xlabel(\"number of trains\")\n",
    "plt.ylabel(\"posterior probability\")"
   ]
  },
  {
   "cell_type": "code",
   "execution_count": 22,
   "metadata": {},
   "outputs": [
    {
     "name": "stdout",
     "output_type": "stream",
     "text": [
      "90 percent confidence interval: 61.000 - 115.000\n"
     ]
    }
   ],
   "source": [
    "prob_cdf_ps = np.cumsum(probs)\n",
    "prob_cdf_xs = range(0, 120)\n",
    "idx_5p = np.where(prob_cdf_ps <= 0.05)[0][-1]\n",
    "idx_95p = np.where(prob_cdf_ps >= 0.95)[0][0]\n",
    "lam_90ci_lb = prob_cdf_xs[idx_5p]\n",
    "lam_90ci_ub = prob_cdf_xs[idx_95p]\n",
    "print(\"90 percent confidence interval: %.3f - %.3f\" % (lam_90ci_lb, lam_90ci_ub))"
   ]
  },
  {
   "cell_type": "code",
   "execution_count": null,
   "metadata": {},
   "outputs": [],
   "source": []
  }
 ],
 "metadata": {
  "kernelspec": {
   "display_name": "Python 2",
   "language": "python",
   "name": "python2"
  },
  "language_info": {
   "codemirror_mode": {
    "name": "ipython",
    "version": 3
   },
   "file_extension": ".py",
   "mimetype": "text/x-python",
   "name": "python",
   "nbconvert_exporter": "python",
   "pygments_lexer": "ipython3",
   "version": "3.6.6"
  }
 },
 "nbformat": 4,
 "nbformat_minor": 2
}
